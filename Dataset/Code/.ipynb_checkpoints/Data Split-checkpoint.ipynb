{
 "cells": [
  {
   "cell_type": "code",
   "execution_count": 1,
   "id": "d414cdcf",
   "metadata": {},
   "outputs": [
    {
     "name": "stdout",
     "output_type": "stream",
     "text": [
      "D:\\IITDH\\Sem1\\SPRL\\SPR_Assignment\\SPR\\Dataset\\Group04\\NLS_Group04\n",
      "Processed: class1.txt -> D:\\IITDH\\Sem1\\SPRL\\SPR_Assignment\\SPR\\Dataset\\Group04\\NLS_Group04\\train\\class1_train.txt, D:\\IITDH\\Sem1\\SPRL\\SPR_Assignment\\SPR\\Dataset\\Group04\\NLS_Group04\\test\\class1_test.txt\n",
      "Processed: class2.txt -> D:\\IITDH\\Sem1\\SPRL\\SPR_Assignment\\SPR\\Dataset\\Group04\\NLS_Group04\\train\\class2_train.txt, D:\\IITDH\\Sem1\\SPRL\\SPR_Assignment\\SPR\\Dataset\\Group04\\NLS_Group04\\test\\class2_test.txt\n",
      "Processed: class3.txt -> D:\\IITDH\\Sem1\\SPRL\\SPR_Assignment\\SPR\\Dataset\\Group04\\NLS_Group04\\train\\class3_train.txt, D:\\IITDH\\Sem1\\SPRL\\SPR_Assignment\\SPR\\Dataset\\Group04\\NLS_Group04\\test\\class3_test.txt\n",
      "\n",
      " All files split and saved in 'train/' and 'test/' folders.\n"
     ]
    }
   ],
   "source": [
    "import os\n",
    "import random\n",
    "\n",
    "def split_files_in_folder(input_folder, train_ratio=0.7):\n",
    "    # Get absolute path\n",
    "    input_folder = os.path.abspath(input_folder)\n",
    "    print(input_folder)\n",
    "    # Create train and test directories\n",
    "    train_folder = os.path.join(input_folder, 'train')\n",
    "    test_folder = os.path.join(input_folder, 'test')\n",
    "    os.makedirs(train_folder, exist_ok=True)\n",
    "    os.makedirs(test_folder, exist_ok=True)\n",
    "\n",
    "    # Loop through all .txt files in the folder\n",
    "    for filename in os.listdir(input_folder):\n",
    "        file_path = os.path.join(input_folder, filename)\n",
    "\n",
    "        # Skip if it's not a .txt file or a folder\n",
    "        if not filename.endswith('.txt') or not os.path.isfile(file_path):\n",
    "            continue\n",
    "\n",
    "        # Read lines from the file\n",
    "        with open(file_path, 'r', encoding='utf-8') as f:\n",
    "            lines = f.readlines()\n",
    "\n",
    "        # Shuffle lines\n",
    "        random.shuffle(lines)\n",
    "\n",
    "        # Split into train and test\n",
    "        split_idx = int(len(lines) * train_ratio)\n",
    "        train_lines = lines[:split_idx]\n",
    "        test_lines = lines[split_idx:]\n",
    "\n",
    "        # Build output filenames\n",
    "        base_name = os.path.splitext(filename)[0]\n",
    "        train_file = os.path.join(train_folder, f'{base_name}_train.txt')\n",
    "        test_file = os.path.join(test_folder, f'{base_name}_test.txt')\n",
    "\n",
    "        # Write to train and test files\n",
    "        with open(train_file, 'w', encoding='utf-8') as f:\n",
    "            f.writelines(train_lines)\n",
    "        with open(test_file, 'w', encoding='utf-8') as f:\n",
    "            f.writelines(test_lines)\n",
    "\n",
    "        print(f\"Processed: {filename} -> {train_file}, {test_file}\")\n",
    "\n",
    "    print(\"\\n All files split and saved in 'train/' and 'test/' folders.\")\n",
    "\n",
    "\n",
    "# split_files_in_folder('../Group04/LS_Group04/')\n",
    "# split_files_in_folder('../Group04/rd_group4/')\n",
    "split_files_in_folder('../Group04/NLS_Group04/')\n",
    "\n"
   ]
  },
  {
   "cell_type": "code",
   "execution_count": 6,
   "id": "040a50b9",
   "metadata": {},
   "outputs": [],
   "source": [
    "def split_big_file(big_file_path, output_folder):\n",
    "    os.makedirs(output_folder, exist_ok=True)\n",
    "\n",
    "    with open(big_file_path, 'r', encoding='utf-8') as f:\n",
    "        lines = f.readlines()\n",
    "\n",
    "    # Skip the first line\n",
    "    lines = lines[1:]\n",
    "\n",
    "    total = len(lines)\n",
    "    print(f\"Total lines after skipping first line: {total}\")\n",
    "\n",
    "    class1_count = 300\n",
    "    class2_count = 500\n",
    "    class3_count = 1000\n",
    "\n",
    "    if total < (class1_count + class2_count + class3_count):\n",
    "        raise ValueError(\"Not enough lines in big file for the split counts\")\n",
    "\n",
    "    class1_lines = lines[:class1_count]\n",
    "    class2_lines = lines[class1_count:class1_count+class2_count]\n",
    "    class3_lines = lines[class1_count+class2_count:class1_count+class2_count+class3_count]\n",
    "\n",
    "    class1_file = os.path.join(output_folder, 'class1.txt')\n",
    "    class2_file = os.path.join(output_folder, 'class2.txt')\n",
    "    class3_file = os.path.join(output_folder, 'class3.txt')\n",
    "\n",
    "    with open(class1_file, 'w', encoding='utf-8') as f:\n",
    "        f.writelines(class1_lines)\n",
    "    with open(class2_file, 'w', encoding='utf-8') as f:\n",
    "        f.writelines(class2_lines)\n",
    "    with open(class3_file, 'w', encoding='utf-8') as f:\n",
    "        f.writelines(class3_lines)\n",
    "\n",
    "    print(\"Class files created!\")"
   ]
  },
  {
   "cell_type": "code",
   "execution_count": 7,
   "id": "8837cddc",
   "metadata": {},
   "outputs": [
    {
     "name": "stdout",
     "output_type": "stream",
     "text": [
      "Total lines after skipping first line: 1800\n",
      "Class files created!\n"
     ]
    }
   ],
   "source": [
    "big_file = '../Group04/NLS_Group04.txt'  # Your big file containing all 1800 lines\n",
    "output_dir = '../Group04/NLS_Group04'  # Folder to save class1.txt, class2.txt, class3.txt\n",
    "\n",
    "split_big_file(big_file, output_dir)"
   ]
  }
 ],
 "metadata": {
  "kernelspec": {
   "display_name": "Python 3 (ipykernel)",
   "language": "python",
   "name": "python3"
  },
  "language_info": {
   "codemirror_mode": {
    "name": "ipython",
    "version": 3
   },
   "file_extension": ".py",
   "mimetype": "text/x-python",
   "name": "python",
   "nbconvert_exporter": "python",
   "pygments_lexer": "ipython3",
   "version": "3.10.9"
  }
 },
 "nbformat": 4,
 "nbformat_minor": 5
}
