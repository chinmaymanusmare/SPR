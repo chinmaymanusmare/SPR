{
 "cells": [
  {
   "cell_type": "code",
   "execution_count": 1,
   "id": "331083aa",
   "metadata": {
    "scrolled": true
   },
   "outputs": [],
   "source": [
    "import pandas as pd\n",
    "import matplotlib.pyplot as plt\n",
    "import os"
   ]
  },
  {
   "cell_type": "code",
   "execution_count": 2,
   "id": "7f9f2f78",
   "metadata": {
    "scrolled": true
   },
   "outputs": [],
   "source": [
    "df_list = []"
   ]
  },
  {
   "cell_type": "code",
   "execution_count": 3,
   "id": "c89507b0",
   "metadata": {
    "scrolled": true
   },
   "outputs": [],
   "source": [
    "# folder_path = '../../Dataset/Group04/LS_Group04/'\n",
    "folder_path = '../../Dataset/Group04/rd_group4/'\n",
    "all_entries = os.listdir(folder_path)"
   ]
  },
  {
   "cell_type": "code",
   "execution_count": 4,
   "id": "2a9ede27",
   "metadata": {
    "scrolled": true
   },
   "outputs": [
    {
     "name": "stdout",
     "output_type": "stream",
     "text": [
      "['class1.txt', 'class2.txt', 'class3.txt']\n"
     ]
    }
   ],
   "source": [
    "print(all_entries)\n"
   ]
  },
  {
   "cell_type": "code",
   "execution_count": null,
   "id": "11d439de",
   "metadata": {
    "scrolled": true
   },
   "outputs": [],
   "source": []
  },
  {
   "cell_type": "code",
   "execution_count": 5,
   "id": "108a0bb5",
   "metadata": {
    "scrolled": true
   },
   "outputs": [
    {
     "name": "stdout",
     "output_type": "stream",
     "text": [
      "../../Dataset/Group04/rd_group4/class1.txt\n",
      "       Feature1    Feature2   Class\n",
      "0     328.12500   734.37500  class1\n",
      "1     261.71875   730.46875  class1\n",
      "2     300.78125   667.96875  class1\n",
      "3     324.21875   691.40625  class1\n",
      "4     320.31250   625.00000  class1\n",
      "...         ...         ...     ...\n",
      "2483  324.21875   875.00000  class1\n",
      "2484  312.50000   730.46875  class1\n",
      "2485  296.87500  1000.00000  class1\n",
      "2486  343.75000   765.62500  class1\n",
      "2487  925.78125  1000.00000  class1\n",
      "\n",
      "[2488 rows x 3 columns]\n",
      "../../Dataset/Group04/rd_group4/class2.txt\n",
      "        Feature1    Feature2   Class\n",
      "0      785.15625  1152.34375  class2\n",
      "1      757.81250  1136.71875  class2\n",
      "2      789.06250  1085.93750  class2\n",
      "3      781.25000  1101.56250  class2\n",
      "4      789.06250  1105.46875  class2\n",
      "...          ...         ...     ...\n",
      "2159   718.75000  1113.28125  class2\n",
      "2160   386.71875   777.34375  class2\n",
      "2161   593.75000  1191.40625  class2\n",
      "2162   726.56250  1132.81250  class2\n",
      "2163  1496.09375  1500.00000  class2\n",
      "\n",
      "[2164 rows x 3 columns]\n",
      "../../Dataset/Group04/rd_group4/class3.txt\n",
      "        Feature1    Feature2   Class\n",
      "0      320.31250  1492.18750  class3\n",
      "1      265.62500  2335.93750  class3\n",
      "2      285.15625  2281.25000  class3\n",
      "3      238.28125  2402.34375  class3\n",
      "4      261.71875  2343.75000  class3\n",
      "...          ...         ...     ...\n",
      "2383   351.56250  2398.43750  class3\n",
      "2384  1613.28125  2253.90625  class3\n",
      "2385   332.03125  2359.37500  class3\n",
      "2386  1003.90625  1683.59375  class3\n",
      "2387   953.12500  1898.43750  class3\n",
      "\n",
      "[2388 rows x 3 columns]\n"
     ]
    }
   ],
   "source": [
    "for entry in all_entries:\n",
    "    class_label = entry.split('.')[0]\n",
    "    file_path = folder_path+entry\n",
    "    print(file_path)\n",
    "    temp_df = pd.read_csv(file_path, names=['Feature1',\"Feature2\"], delim_whitespace=True)\n",
    "    temp_df['Class'] = class_label\n",
    "    df_list.append(temp_df)\n",
    "    print(temp_df)"
   ]
  },
  {
   "cell_type": "code",
   "execution_count": 6,
   "id": "5c26e700",
   "metadata": {},
   "outputs": [],
   "source": [
    "merged_df = []"
   ]
  },
  {
   "cell_type": "code",
   "execution_count": 7,
   "id": "15f9f1cb",
   "metadata": {
    "scrolled": true
   },
   "outputs": [],
   "source": [
    "merged_df = pd.concat(df_list, ignore_index=True)"
   ]
  },
  {
   "cell_type": "code",
   "execution_count": 8,
   "id": "4d2df8fa",
   "metadata": {
    "scrolled": true
   },
   "outputs": [
    {
     "data": {
      "text/html": [
       "<div>\n",
       "<style scoped>\n",
       "    .dataframe tbody tr th:only-of-type {\n",
       "        vertical-align: middle;\n",
       "    }\n",
       "\n",
       "    .dataframe tbody tr th {\n",
       "        vertical-align: top;\n",
       "    }\n",
       "\n",
       "    .dataframe thead th {\n",
       "        text-align: right;\n",
       "    }\n",
       "</style>\n",
       "<table border=\"1\" class=\"dataframe\">\n",
       "  <thead>\n",
       "    <tr style=\"text-align: right;\">\n",
       "      <th></th>\n",
       "      <th>Feature1</th>\n",
       "      <th>Feature2</th>\n",
       "      <th>Class</th>\n",
       "    </tr>\n",
       "  </thead>\n",
       "  <tbody>\n",
       "    <tr>\n",
       "      <th>0</th>\n",
       "      <td>328.12500</td>\n",
       "      <td>734.37500</td>\n",
       "      <td>class1</td>\n",
       "    </tr>\n",
       "    <tr>\n",
       "      <th>1</th>\n",
       "      <td>261.71875</td>\n",
       "      <td>730.46875</td>\n",
       "      <td>class1</td>\n",
       "    </tr>\n",
       "    <tr>\n",
       "      <th>2</th>\n",
       "      <td>300.78125</td>\n",
       "      <td>667.96875</td>\n",
       "      <td>class1</td>\n",
       "    </tr>\n",
       "    <tr>\n",
       "      <th>3</th>\n",
       "      <td>324.21875</td>\n",
       "      <td>691.40625</td>\n",
       "      <td>class1</td>\n",
       "    </tr>\n",
       "    <tr>\n",
       "      <th>4</th>\n",
       "      <td>320.31250</td>\n",
       "      <td>625.00000</td>\n",
       "      <td>class1</td>\n",
       "    </tr>\n",
       "    <tr>\n",
       "      <th>...</th>\n",
       "      <td>...</td>\n",
       "      <td>...</td>\n",
       "      <td>...</td>\n",
       "    </tr>\n",
       "    <tr>\n",
       "      <th>7035</th>\n",
       "      <td>351.56250</td>\n",
       "      <td>2398.43750</td>\n",
       "      <td>class3</td>\n",
       "    </tr>\n",
       "    <tr>\n",
       "      <th>7036</th>\n",
       "      <td>1613.28125</td>\n",
       "      <td>2253.90625</td>\n",
       "      <td>class3</td>\n",
       "    </tr>\n",
       "    <tr>\n",
       "      <th>7037</th>\n",
       "      <td>332.03125</td>\n",
       "      <td>2359.37500</td>\n",
       "      <td>class3</td>\n",
       "    </tr>\n",
       "    <tr>\n",
       "      <th>7038</th>\n",
       "      <td>1003.90625</td>\n",
       "      <td>1683.59375</td>\n",
       "      <td>class3</td>\n",
       "    </tr>\n",
       "    <tr>\n",
       "      <th>7039</th>\n",
       "      <td>953.12500</td>\n",
       "      <td>1898.43750</td>\n",
       "      <td>class3</td>\n",
       "    </tr>\n",
       "  </tbody>\n",
       "</table>\n",
       "<p>7040 rows × 3 columns</p>\n",
       "</div>"
      ],
      "text/plain": [
       "        Feature1    Feature2   Class\n",
       "0      328.12500   734.37500  class1\n",
       "1      261.71875   730.46875  class1\n",
       "2      300.78125   667.96875  class1\n",
       "3      324.21875   691.40625  class1\n",
       "4      320.31250   625.00000  class1\n",
       "...          ...         ...     ...\n",
       "7035   351.56250  2398.43750  class3\n",
       "7036  1613.28125  2253.90625  class3\n",
       "7037   332.03125  2359.37500  class3\n",
       "7038  1003.90625  1683.59375  class3\n",
       "7039   953.12500  1898.43750  class3\n",
       "\n",
       "[7040 rows x 3 columns]"
      ]
     },
     "execution_count": 8,
     "metadata": {},
     "output_type": "execute_result"
    }
   ],
   "source": [
    "merged_df"
   ]
  },
  {
   "cell_type": "code",
   "execution_count": 9,
   "id": "9f355b26",
   "metadata": {
    "scrolled": true
   },
   "outputs": [
    {
     "name": "stdout",
     "output_type": "stream",
     "text": [
      "    Feature1   Feature2   Class\n",
      "0  328.12500  734.37500  class1\n",
      "1  261.71875  730.46875  class1\n",
      "2  300.78125  667.96875  class1\n",
      "3  324.21875  691.40625  class1\n",
      "4  320.31250  625.00000  class1\n"
     ]
    }
   ],
   "source": [
    "print(merged_df.head())"
   ]
  },
  {
   "cell_type": "code",
   "execution_count": 10,
   "id": "bed9aa30",
   "metadata": {
    "scrolled": true
   },
   "outputs": [
    {
     "data": {
      "text/plain": [
       "(7040, 3)"
      ]
     },
     "execution_count": 10,
     "metadata": {},
     "output_type": "execute_result"
    }
   ],
   "source": [
    "merged_df.shape"
   ]
  },
  {
   "cell_type": "code",
   "execution_count": 11,
   "id": "97bb5b6a",
   "metadata": {
    "scrolled": true
   },
   "outputs": [
    {
     "name": "stdout",
     "output_type": "stream",
     "text": [
      "class1\n",
      "class2\n",
      "class3\n"
     ]
    },
    {
     "data": {
      "text/plain": [
       "<Figure size 1000x1000 with 0 Axes>"
      ]
     },
     "metadata": {},
     "output_type": "display_data"
    }
   ],
   "source": [
    "plt.figure(figsize=(10,10))\n",
    "\n",
    "for class_name in merged_df['Class'].unique():\n",
    "    print(class_name)"
   ]
  },
  {
   "cell_type": "code",
   "execution_count": 12,
   "id": "0fd9fd71",
   "metadata": {
    "scrolled": true
   },
   "outputs": [
    {
     "data": {
      "image/png": "[encoded data removed]",
      "text/plain": [
       "<Figure size 1000x600 with 1 Axes>"
      ]
     },
     "metadata": {},
     "output_type": "display_data"
    }
   ],
   "source": [
    "df = merged_df[[\"Feature1\",\"Feature2\",\"Class\"]]\n",
    "plt.figure(figsize=(10, 6))\n",
    "for cls in df['Class'].unique():\n",
    "    subset = df[df['Class'] == cls]\n",
    "    plt.scatter(subset['Feature1'], subset['Feature2'], label=cls)\n",
    "\n",
    "plt.xlabel('Feature1')\n",
    "plt.ylabel('Feature2')\n",
    "plt.title('Scatter Plot of Features by Class')\n",
    "plt.legend()\n",
    "plt.show()"
   ]
  },
  {
   "cell_type": "code",
   "execution_count": 13,
   "id": "e353ba5d",
   "metadata": {
    "scrolled": true
   },
   "outputs": [
    {
     "name": "stdout",
     "output_type": "stream",
     "text": [
      "Feature1    0\n",
      "Feature2    0\n",
      "Class       0\n",
      "dtype: int64\n"
     ]
    }
   ],
   "source": [
    "print(merged_df.isna().sum())"
   ]
  },
  {
   "cell_type": "code",
   "execution_count": 14,
   "id": "d56ff797",
   "metadata": {
    "scrolled": true
   },
   "outputs": [
    {
     "data": {
      "image/png": "[encoded data removed]",
      "text/plain": [
       "<Figure size 640x480 with 1 Axes>"
      ]
     },
     "metadata": {},
     "output_type": "display_data"
    }
   ],
   "source": [
    "import matplotlib.pyplot as plt\n",
    "\n",
    "plt.scatter(df['Feature1'], df['Feature2'])\n",
    "plt.title('Class1 Data Distribution')\n",
    "plt.xlabel('Feature1')\n",
    "plt.ylabel('Feature2')\n",
    "plt.show()"
   ]
  },
  {
   "cell_type": "code",
   "execution_count": 26,
   "id": "de859ca8",
   "metadata": {
    "scrolled": true
   },
   "outputs": [],
   "source": [
    "def mean(x: list[float]) -> float:\n",
    "    ''' Docstring \n",
    "    \n",
    "    '''\n",
    "    return sum(x)/len(x)\n",
    "\n",
    "def covariance(x: list[float],y: list[float]) -> float:\n",
    "    ''' Docstring dfghjk\n",
    "    \n",
    "    '''\n",
    "    if len(x) != len(y):\n",
    "        raise ValueError(\"Length mismatch between input lists\")\n",
    "    numerator = 0\n",
    "    x_mean = mean(x)\n",
    "    y_mean = mean(y)\n",
    "    for i, j in zip(x,y):\n",
    "        numerator += (i-x_mean)*(j-y_mean)\n",
    "        \n",
    "    return numerator/(len(x)-1)\n",
    "\n",
    "def covariance_matrix(class_data, mean_vector=0):\n",
    "    n_samples = len(class_data)\n",
    "    n_features = 2\n",
    "    cov_matrix = [[0.0] * n_features for _ in range(n_features)]\n",
    "    \n",
    "    for i in range(n_features):\n",
    "        for j in range(n_features):\n",
    "            cov_matrix[i][j] = covariance(class_data.iloc[:, i], class_data.iloc[:, j])\n",
    "    return cov_matrix"
   ]
  },
  {
   "cell_type": "code",
   "execution_count": null,
   "id": "504bc455",
   "metadata": {
    "scrolled": true
   },
   "outputs": [],
   "source": []
  },
  {
   "cell_type": "code",
   "execution_count": 28,
   "id": "0451284f",
   "metadata": {
    "scrolled": true
   },
   "outputs": [
    {
     "data": {
      "text/plain": [
       "array(['class1', 'class2', 'class3'], dtype=object)"
      ]
     },
     "execution_count": 28,
     "metadata": {},
     "output_type": "execute_result"
    }
   ],
   "source": [
    "df['Class'].unique()"
   ]
  },
  {
   "cell_type": "code",
   "execution_count": 29,
   "id": "edb6386b",
   "metadata": {
    "scrolled": true
   },
   "outputs": [
    {
     "data": {
      "text/plain": [
       "[[41283.316947506086, -42106.23062207048],\n",
       " [-42106.23062207048, 441428.28247646906]]"
      ]
     },
     "execution_count": 29,
     "metadata": {},
     "output_type": "execute_result"
    }
   ],
   "source": [
    "covariance_matrix(merged_df)"
   ]
  },
  {
   "cell_type": "code",
   "execution_count": 19,
   "id": "3dfa7e6a",
   "metadata": {
    "scrolled": true
   },
   "outputs": [],
   "source": [
    "def average_variance(class_dataset):\n",
    "    total_variance = 0\n",
    "    total_count = 0\n",
    "    for class_data in class_dataset:\n",
    "        cov_mat = covariance_matrix(class_data)\n",
    "        for i in range(len(cov_mat)):\n",
    "            total_variance += cov_mat[i][i]\n",
    "            total_count += 1\n",
    "    return total_variance/total_count\n",
    "\n",
    "def shared_covariance_matrix_sigma_squared_I(class_datasets: list):\n",
    "    sigma_squared = average_variance(class_datasets)\n",
    "    n_features = len(class_datasets[0].columns)\n",
    "    return [[sigma_squared if i == j else 0 for j in range(n_features)] for i in range(n_features)]"
   ]
  },
  {
   "cell_type": "code",
   "execution_count": 20,
   "id": "30c14e12",
   "metadata": {
    "scrolled": true
   },
   "outputs": [],
   "source": [
    "def compute_class_means_and_priors(train_df):\n",
    "    class_means = {}\n",
    "    priors = {}\n",
    "\n",
    "    total_samples = len(train_df)\n",
    "\n",
    "    for cls in train_df['Class'].unique():\n",
    "        class_data = train_df[train_df['Class'] == cls][['Feature1', 'Feature2']]\n",
    "        feature1_values = class_data['Feature1'].tolist()\n",
    "        feature2_values = class_data['Feature2'].tolist()\n",
    "        \n",
    "        mean_feature1 = sum(feature1_values) / len(feature1_values)\n",
    "        mean_feature2 = sum(feature2_values) / len(feature2_values)\n",
    "\n",
    "        class_means[cls] = [mean_feature1, mean_feature2]\n",
    "        priors[cls] = len(class_data) / total_samples\n",
    "\n",
    "    return class_means, priors\n",
    "\n",
    "def discriminant_sigma2I(x, mean_vec, sigma2, prior):\n",
    "    x = np.array(x)\n",
    "    mean_vec = np.array(mean_vec)\n",
    "\n",
    "    diff = x - mean_vec\n",
    "    term1 = -0.5 * np.dot(diff.T, diff) / sigma2\n",
    "    term2 = np.log(prior)\n",
    "\n",
    "    return term1 + term2\n",
    "    \n",
    "\n",
    "def predict_sigma2I(test_df, class_means, priors, sigma2):\n",
    "    predictions = []\n",
    "\n",
    "    for _, row in test_df.iterrows():\n",
    "        x = [row['Feature1'], row['Feature2']]\n",
    "        scores = {}\n",
    "\n",
    "        for cls in class_means:\n",
    "            score = discriminant_sigma2I(x, class_means[cls], sigma2, priors[cls])\n",
    "            scores[cls] = score\n",
    "\n",
    "        predicted_class = max(scores, key=scores.get)\n",
    "        predictions.append(predicted_class)\n",
    "\n",
    "    return predictions\n",
    "\n"
   ]
  },
  {
   "cell_type": "code",
   "execution_count": 21,
   "id": "8aba1901",
   "metadata": {
    "scrolled": true
   },
   "outputs": [],
   "source": [
    "import numpy as np\n",
    "train_df = merged_df\n",
    "test_df = merged_df.copy()\n",
    "class_data_train = [train_df[train_df['Class'] == c][['Feature1', 'Feature2']] for c in train_df['Class'].unique()]\n",
    "\n",
    "# Step 3: Get sigma²\n",
    "sigma2_cov = shared_covariance_matrix_sigma_squared_I(class_data_train)\n",
    "sigma2 = sigma2_cov[0][0]  # since diagonal and same for all\n",
    "\n",
    "# Step 4: Compute means and priors\n",
    "class_means, priors = compute_class_means_and_priors(train_df)\n",
    "\n",
    "# Step 5: Predict\n",
    "test_df['Predicted'] = predict_sigma2I(train_df, class_means, priors, sigma2)"
   ]
  },
  {
   "cell_type": "code",
   "execution_count": null,
   "id": "79651276",
   "metadata": {
    "scrolled": false
   },
   "outputs": [],
   "source": []
  },
  {
   "cell_type": "code",
   "execution_count": 22,
   "id": "671f7d81",
   "metadata": {
    "scrolled": true
   },
   "outputs": [],
   "source": [
    "def confusion_matrix(true_labels, predicted_labels, classes):\n",
    "    # Initialize matrix as dict of dicts for clarity\n",
    "    matrix = {true_cls: {pred_cls: 0 for pred_cls in classes} for true_cls in classes}\n",
    "\n",
    "    for t, p in zip(true_labels, predicted_labels):\n",
    "        matrix[t][p] += 1\n",
    "\n",
    "    return matrix\n",
    "\n",
    "def accuracy(true_labels, predicted_labels):\n",
    "    correct = sum(t == p for t, p in zip(true_labels, predicted_labels))\n",
    "    total = len(true_labels)\n",
    "    return correct / total if total > 0 else 0\n",
    "\n",
    "def precision_recall_f1(conf_matrix, classes):\n",
    "    precision = {}\n",
    "    recall = {}\n",
    "    f1 = {}\n",
    "\n",
    "    for cls in classes:\n",
    "        TP = conf_matrix[cls][cls]\n",
    "        FP = sum(conf_matrix[other][cls] for other in classes if other != cls)\n",
    "        FN = sum(conf_matrix[cls][other] for other in classes if other != cls)\n",
    "\n",
    "        prec = TP / (TP + FP) if (TP + FP) > 0 else 0\n",
    "        rec = TP / (TP + FN) if (TP + FN) > 0 else 0\n",
    "        f1_score = 2 * prec * rec / (prec + rec) if (prec + rec) > 0 else 0\n",
    "\n",
    "        precision[cls] = prec\n",
    "        recall[cls] = rec\n",
    "        f1[cls] = f1_score\n",
    "\n",
    "    mean_precision = sum(precision.values()) / len(classes)\n",
    "    mean_recall = sum(recall.values()) / len(classes)\n",
    "    mean_f1 = sum(f1.values()) / len(classes)\n",
    "\n",
    "    return precision, recall, f1, mean_precision, mean_recall, mean_f1\n"
   ]
  },
  {
   "cell_type": "code",
   "execution_count": 23,
   "id": "c20c1c21",
   "metadata": {},
   "outputs": [
    {
     "name": "stdout",
     "output_type": "stream",
     "text": [
      "\n",
      "\n",
      "Confusion Matrix:\n",
      " {'class1': {'class1': 2471, 'class2': 17, 'class3': 0}, 'class2': {'class1': 58, 'class2': 2106, 'class3': 0}, 'class3': {'class1': 3, 'class2': 5, 'class3': 2380}}\n",
      "\n",
      "\n",
      "Accuracy:\n",
      " 0.9882102272727272\n",
      "\n",
      "\n",
      "Precision per class:\n",
      " {'class1': 0.9759083728278041, 'class2': 0.9896616541353384, 'class3': 1.0}\n",
      "\n",
      "\n",
      "Recall per class:\n",
      " {'class1': 0.9931672025723473, 'class2': 0.9731977818853974, 'class3': 0.9966499162479062}\n",
      "\n",
      "\n",
      "F1 Score per class:\n",
      " {'class1': 0.9844621513944224, 'class2': 0.9813606710158433, 'class3': 0.9983221476510068}\n",
      "\n",
      "\n",
      "Mean Precision:\n",
      " 0.9885233423210474\n",
      "\n",
      "\n",
      "Mean Recall:\n",
      " 0.9876716335685503\n",
      "\n",
      "\n",
      "Mean F1 Score:\n",
      " 0.9880483233537576\n"
     ]
    }
   ],
   "source": [
    "true_labels = test_df['Class'].tolist()\n",
    "predicted_labels = test_df['Predicted'].tolist()\n",
    "classes = list(test_df['Class'].unique())\n",
    "\n",
    "cm = confusion_matrix(true_labels, predicted_labels, classes)\n",
    "acc = accuracy(true_labels, predicted_labels)\n",
    "prec, rec, f1, mean_prec, mean_rec, mean_f1 = precision_recall_f1(cm, classes)\n",
    "\n",
    "print(\"\\n\\nConfusion Matrix:\\n\", cm)\n",
    "print(\"\\n\\nAccuracy:\\n\", acc)\n",
    "print(\"\\n\\nPrecision per class:\\n\", prec)\n",
    "print(\"\\n\\nRecall per class:\\n\", rec)\n",
    "print(\"\\n\\nF1 Score per class:\\n\", f1)\n",
    "print(\"\\n\\nMean Precision:\\n\", mean_prec)\n",
    "print(\"\\n\\nMean Recall:\\n\", mean_rec)\n",
    "print(\"\\n\\nMean F1 Score:\\n\", mean_f1)\n"
   ]
  },
  {
   "cell_type": "code",
   "execution_count": 24,
   "id": "99e9f523",
   "metadata": {},
   "outputs": [
    {
     "name": "stdout",
     "output_type": "stream",
     "text": [
      "Shared Covariance Matrix (σ² * I):\n",
      "[[8464.555113095157, 0], [0, 8464.555113095157]]\n"
     ]
    }
   ],
   "source": [
    "import pandas as pd\n",
    "import numpy\n",
    "df = merged_df\n",
    "# Load data\n",
    "# df = pd.read_csv(\"your_data.csv\")  # Replace with actual filename\n",
    "\n",
    "# Split data into list of DataFrames by class\n",
    "class_data = [df[df['Class'] == c][['Feature1', 'Feature2']] for c in df['Class'].unique()]\n",
    "\n",
    "# Get shared covariance matrix of form σ² * I\n",
    "shared_cov = shared_covariance_matrix_sigma_squared_I(class_data)\n",
    "\n",
    "# Display\n",
    "print(\"Shared Covariance Matrix (σ² * I):\")\n",
    "print(shared_cov)"
   ]
  },
  {
   "cell_type": "code",
   "execution_count": null,
   "id": "9ba83b7c",
   "metadata": {
    "scrolled": true
   },
   "outputs": [],
   "source": []
  }
 ],
 "metadata": {
  "kernelspec": {
   "display_name": "Python 3 (ipykernel)",
   "language": "python",
   "name": "python3"
  },
  "language_info": {
   "codemirror_mode": {
    "name": "ipython",
    "version": 3
   },
   "file_extension": ".py",
   "mimetype": "text/x-python",
   "name": "python",
   "nbconvert_exporter": "python",
   "pygments_lexer": "ipython3",
   "version": "3.10.9"
  }
 },
 "nbformat": 4,
 "nbformat_minor": 5
}
