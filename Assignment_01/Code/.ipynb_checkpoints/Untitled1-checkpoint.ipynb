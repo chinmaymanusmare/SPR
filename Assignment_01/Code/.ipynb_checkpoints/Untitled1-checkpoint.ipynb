{
 "cells": [
  {
   "cell_type": "code",
   "execution_count": 1,
   "id": "167fc101",
   "metadata": {},
   "outputs": [],
   "source": [
    "# Example structure:\n",
    "# data = {\n",
    "#     'class1': [[x11, x12, ..., x1d], [x21, x22, ..., x2d], ...],\n",
    "#     'class2': [[...], [...], ...],\n",
    "#     ...\n",
    "# }\n",
    "\n",
    "def mean(vector_list):\n",
    "    n = len(vector_list)\n",
    "    d = len(vector_list[0])\n",
    "    result = [0.0] * d\n",
    "    for vec in vector_list:\n",
    "        for i in range(d):\n",
    "            result[i] += vec[i]\n",
    "    return [x / n for x in result]\n",
    "\n",
    "def subtract_vectors(v1, v2):\n",
    "    return [a - b for a, b in zip(v1, v2)]\n",
    "\n",
    "def outer_product(v1, v2):\n",
    "    d = len(v1)\n",
    "    return [[v1[i] * v2[j] for j in range(d)] for i in range(d)]\n",
    "\n",
    "def covariance_matrix(data_points, mean_vector):\n",
    "    n = len(data_points)\n",
    "    d = len(mean_vector)\n",
    "    cov = [[0.0 for _ in range(d)] for _ in range(d)]\n",
    "    for x in data_points:\n",
    "        diff = subtract_vectors(x, mean_vector)\n",
    "        outer = outer_product(diff, diff)\n",
    "        for i in range(d):\n",
    "            for j in range(d):\n",
    "                cov[i][j] += outer[i][j]\n",
    "    return [[val / n for val in row] for row in cov]\n",
    "\n",
    "def average_covariance(cov_list):\n",
    "    k = len(cov_list)\n",
    "    d = len(cov_list[0])\n",
    "    avg = [[0.0 for _ in range(d)] for _ in range(d)]\n",
    "    for cov in cov_list:\n",
    "        for i in range(d):\n",
    "            for j in range(d):\n",
    "                avg[i][j] += cov[i][j]\n",
    "    return [[val / k for val in row] for row in avg]\n",
    "\n",
    "def diagonal_matrix_from_cov(cov):\n",
    "    d = len(cov)\n",
    "    diag = [[0.0 for _ in range(d)] for _ in range(d)]\n",
    "    for i in range(d):\n",
    "        diag[i][i] = cov[i][i]\n",
    "    return diag\n"
   ]
  },
  {
   "cell_type": "code",
   "execution_count": 2,
   "id": "81ea5e3c",
   "metadata": {},
   "outputs": [],
   "source": [
    "def classifier_case_1(data):\n",
    "    means = {}\n",
    "    variances = []\n",
    "    for cls, points in data.items():\n",
    "        mu = mean(points)\n",
    "        means[cls] = mu\n",
    "        for x in points:\n",
    "            diff = subtract_vectors(x, mu)\n",
    "            variances.append(sum(val ** 2 for val in diff))\n",
    "\n",
    "    sigma_squared = sum(variances) / (len(variances) * len(points[0]))  # scalar\n",
    "    return means, sigma_squared\n"
   ]
  },
  {
   "cell_type": "code",
   "execution_count": 3,
   "id": "3cba794e",
   "metadata": {},
   "outputs": [],
   "source": [
    "def classifier_case_2(data):\n",
    "    means = {}\n",
    "    covariances = []\n",
    "    for cls, points in data.items():\n",
    "        mu = mean(points)\n",
    "        means[cls] = mu\n",
    "        cov = covariance_matrix(points, mu)\n",
    "        covariances.append(cov)\n",
    "\n",
    "    avg_cov = average_covariance(covariances)\n",
    "    return means, avg_cov\n"
   ]
  },
  {
   "cell_type": "code",
   "execution_count": 4,
   "id": "00315b70",
   "metadata": {},
   "outputs": [],
   "source": [
    "def classifier_case_3(data):\n",
    "    means = {}\n",
    "    diag_covs = {}\n",
    "    for cls, points in data.items():\n",
    "        mu = mean(points)\n",
    "        means[cls] = mu\n",
    "        full_cov = covariance_matrix(points, mu)\n",
    "        diag_cov = diagonal_matrix_from_cov(full_cov)\n",
    "        diag_covs[cls] = diag_cov\n",
    "    return means, diag_covs\n"
   ]
  },
  {
   "cell_type": "code",
   "execution_count": 5,
   "id": "9a650a80",
   "metadata": {},
   "outputs": [],
   "source": [
    "def classifier_case_4(data):\n",
    "    means = {}\n",
    "    full_covs = {}\n",
    "    for cls, points in data.items():\n",
    "        mu = mean(points)\n",
    "        means[cls] = mu\n",
    "        cov = covariance_matrix(points, mu)\n",
    "        full_covs[cls] = cov\n",
    "    return means, full_covs\n"
   ]
  },
  {
   "cell_type": "code",
   "execution_count": 6,
   "id": "1da0a7ce",
   "metadata": {},
   "outputs": [
    {
     "name": "stdout",
     "output_type": "stream",
     "text": [
      "Means: {'A': [1.0333333333333334, 2.0], 'B': [3.0, 3.5]}\n",
      "Shared σ²: 0.018888888888888913\n",
      "Means: {'A': [1.0333333333333334, 2.0], 'B': [3.0, 3.5]}\n",
      "Shared Covariance Matrix: [[0.021111111111111133, 0.01833333333333336], [0.01833333333333336, 0.016666666666666698]]\n",
      "Means: {'A': [1.0333333333333334, 2.0], 'B': [3.0, 3.5]}\n",
      "Diagonal Covariances: {'A': [[0.01555555555555555, 0.0], [0.0, 0.006666666666666678]], 'B': [[0.026666666666666713, 0.0], [0.0, 0.026666666666666713]]}\n",
      "Means: {'A': [1.0333333333333334, 2.0], 'B': [3.0, 3.5]}\n",
      "Full Covariances: {'A': [[0.01555555555555555, 0.010000000000000007], [0.010000000000000007, 0.006666666666666678]], 'B': [[0.026666666666666713, 0.026666666666666713], [0.026666666666666713, 0.026666666666666713]]}\n"
     ]
    }
   ],
   "source": [
    "data = {\n",
    "    'A': [[1.0, 2.0], [1.2, 2.1], [0.9, 1.9]],\n",
    "    'B': [[3.0, 3.5], [3.2, 3.7], [2.8, 3.3]]\n",
    "}\n",
    "\n",
    "\n",
    "means, sigma2 = classifier_case_1(data)\n",
    "print(\"Means:\", means)\n",
    "print(\"Shared σ²:\", sigma2)\n",
    "\n",
    "means, shared_cov = classifier_case_2(data)\n",
    "print(\"Means:\", means)\n",
    "print(\"Shared Covariance Matrix:\", shared_cov)\n",
    "\n",
    "means, diag_covs = classifier_case_3(data)\n",
    "print(\"Means:\", means)\n",
    "print(\"Diagonal Covariances:\", diag_covs)\n",
    "\n",
    "means, full_covs = classifier_case_4(data)\n",
    "print(\"Means:\", means)\n",
    "print(\"Full Covariances:\", full_covs)\n"
   ]
  }
 ],
 "metadata": {
  "kernelspec": {
   "display_name": "Python 3 (ipykernel)",
   "language": "python",
   "name": "python3"
  },
  "language_info": {
   "codemirror_mode": {
    "name": "ipython",
    "version": 3
   },
   "file_extension": ".py",
   "mimetype": "text/x-python",
   "name": "python",
   "nbconvert_exporter": "python",
   "pygments_lexer": "ipython3",
   "version": "3.10.9"
  }
 },
 "nbformat": 4,
 "nbformat_minor": 5
}
