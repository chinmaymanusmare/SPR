{
 "cells": [
  {
   "cell_type": "code",
   "execution_count": 1,
   "id": "331083aa",
   "metadata": {
    "scrolled": true
   },
   "outputs": [],
   "source": [
    "import pandas as pd\n",
    "import matplotlib.pyplot as plt\n",
    "import os"
   ]
  },
  {
   "cell_type": "code",
   "execution_count": 2,
   "id": "1436e665",
   "metadata": {},
   "outputs": [
    {
     "name": "stdout",
     "output_type": "stream",
     "text": [
      "Train shape: (4926, 3)\n",
      "Test shape: (2114, 3)\n",
      "    Feature1    Feature2   Class\n",
      "0  363.28125   707.03125  class1\n",
      "1  375.00000   687.50000  class1\n",
      "2  437.50000  1000.00000  class1\n",
      "3  359.37500   777.34375  class1\n",
      "4  414.06250   816.40625  class1\n",
      "    Feature1   Feature2   Class\n",
      "0  339.84375  750.00000  class1\n",
      "1  359.37500  753.90625  class1\n",
      "2  363.28125  722.65625  class1\n",
      "3  355.46875  769.53125  class1\n",
      "4  382.81250  750.00000  class1\n"
     ]
    }
   ],
   "source": [
    "def load_train_test_data(base_path):\n",
    "    def load_data(folder_path):\n",
    "        df_list = []\n",
    "        for entry in os.listdir(folder_path):\n",
    "            # Example: class1_train.txt → class1\n",
    "            class_label = entry.split('_')[0]\n",
    "            file_path = os.path.join(folder_path, entry)\n",
    "            temp_df = pd.read_csv(file_path, sep=' ', names=['Feature1', 'Feature2'])\n",
    "            temp_df['Class'] = class_label\n",
    "            df_list.append(temp_df)\n",
    "        return pd.concat(df_list, ignore_index=True)\n",
    "\n",
    "    train_path = os.path.join(base_path, \"train\")\n",
    "    test_path = os.path.join(base_path, \"test\")\n",
    "\n",
    "    train_df = load_data(train_path)\n",
    "    test_df = load_data(test_path)\n",
    "\n",
    "    return train_df, test_df\n",
    "\n",
    "\n",
    "# base_path = \"../../Dataset/Group04/LS_Group04/\"\n",
    "# base_path = \"../../Dataset/Group04/NLS_Group04/\"\n",
    "base_path = \"../../Dataset/Group04/rd_group4/\"\n",
    "\n",
    "train_df, test_df = load_train_test_data(base_path)\n",
    "\n",
    "print(\"Train shape:\", train_df.shape)\n",
    "print(\"Test shape:\", test_df.shape)\n",
    "print(train_df.head())\n",
    "print(test_df.head())"
   ]
  },
  {
   "cell_type": "code",
   "execution_count": 28,
   "id": "7f9f2f78",
   "metadata": {
    "scrolled": true
   },
   "outputs": [
    {
     "data": {
      "text/html": [
       "<div>\n",
       "<style scoped>\n",
       "    .dataframe tbody tr th:only-of-type {\n",
       "        vertical-align: middle;\n",
       "    }\n",
       "\n",
       "    .dataframe tbody tr th {\n",
       "        vertical-align: top;\n",
       "    }\n",
       "\n",
       "    .dataframe thead th {\n",
       "        text-align: right;\n",
       "    }\n",
       "</style>\n",
       "<table border=\"1\" class=\"dataframe\">\n",
       "  <thead>\n",
       "    <tr style=\"text-align: right;\">\n",
       "      <th></th>\n",
       "      <th>Feature1</th>\n",
       "      <th>Feature2</th>\n",
       "      <th>Class</th>\n",
       "    </tr>\n",
       "  </thead>\n",
       "  <tbody>\n",
       "    <tr>\n",
       "      <th>0</th>\n",
       "      <td>363.28125</td>\n",
       "      <td>707.03125</td>\n",
       "      <td>class1</td>\n",
       "    </tr>\n",
       "    <tr>\n",
       "      <th>1</th>\n",
       "      <td>375.00000</td>\n",
       "      <td>687.50000</td>\n",
       "      <td>class1</td>\n",
       "    </tr>\n",
       "    <tr>\n",
       "      <th>2</th>\n",
       "      <td>437.50000</td>\n",
       "      <td>1000.00000</td>\n",
       "      <td>class1</td>\n",
       "    </tr>\n",
       "    <tr>\n",
       "      <th>3</th>\n",
       "      <td>359.37500</td>\n",
       "      <td>777.34375</td>\n",
       "      <td>class1</td>\n",
       "    </tr>\n",
       "    <tr>\n",
       "      <th>4</th>\n",
       "      <td>414.06250</td>\n",
       "      <td>816.40625</td>\n",
       "      <td>class1</td>\n",
       "    </tr>\n",
       "    <tr>\n",
       "      <th>...</th>\n",
       "      <td>...</td>\n",
       "      <td>...</td>\n",
       "      <td>...</td>\n",
       "    </tr>\n",
       "    <tr>\n",
       "      <th>4921</th>\n",
       "      <td>335.93750</td>\n",
       "      <td>2347.65625</td>\n",
       "      <td>class3</td>\n",
       "    </tr>\n",
       "    <tr>\n",
       "      <th>4922</th>\n",
       "      <td>351.56250</td>\n",
       "      <td>2160.15625</td>\n",
       "      <td>class3</td>\n",
       "    </tr>\n",
       "    <tr>\n",
       "      <th>4923</th>\n",
       "      <td>285.15625</td>\n",
       "      <td>2269.53125</td>\n",
       "      <td>class3</td>\n",
       "    </tr>\n",
       "    <tr>\n",
       "      <th>4924</th>\n",
       "      <td>261.71875</td>\n",
       "      <td>2320.31250</td>\n",
       "      <td>class3</td>\n",
       "    </tr>\n",
       "    <tr>\n",
       "      <th>4925</th>\n",
       "      <td>296.87500</td>\n",
       "      <td>2289.06250</td>\n",
       "      <td>class3</td>\n",
       "    </tr>\n",
       "  </tbody>\n",
       "</table>\n",
       "<p>4926 rows × 3 columns</p>\n",
       "</div>"
      ],
      "text/plain": [
       "       Feature1    Feature2   Class\n",
       "0     363.28125   707.03125  class1\n",
       "1     375.00000   687.50000  class1\n",
       "2     437.50000  1000.00000  class1\n",
       "3     359.37500   777.34375  class1\n",
       "4     414.06250   816.40625  class1\n",
       "...         ...         ...     ...\n",
       "4921  335.93750  2347.65625  class3\n",
       "4922  351.56250  2160.15625  class3\n",
       "4923  285.15625  2269.53125  class3\n",
       "4924  261.71875  2320.31250  class3\n",
       "4925  296.87500  2289.06250  class3\n",
       "\n",
       "[4926 rows x 3 columns]"
      ]
     },
     "execution_count": 28,
     "metadata": {},
     "output_type": "execute_result"
    }
   ],
   "source": [
    "train_df"
   ]
  },
  {
   "cell_type": "code",
   "execution_count": 4,
   "id": "c89507b0",
   "metadata": {
    "scrolled": true
   },
   "outputs": [],
   "source": [
    "# folder_path = '../../Dataset/Group04/LS_Group04/'\n",
    "\n",
    "# all_entries = os.listdir(folder_path)"
   ]
  },
  {
   "cell_type": "code",
   "execution_count": 5,
   "id": "2a9ede27",
   "metadata": {
    "scrolled": true
   },
   "outputs": [],
   "source": [
    "# print(all_entries)\n"
   ]
  },
  {
   "cell_type": "code",
   "execution_count": null,
   "id": "11d439de",
   "metadata": {
    "scrolled": true
   },
   "outputs": [],
   "source": []
  },
  {
   "cell_type": "code",
   "execution_count": 6,
   "id": "108a0bb5",
   "metadata": {
    "scrolled": true
   },
   "outputs": [],
   "source": [
    "# for entry in all_entries:\n",
    "#     class_label = entry.split('.')[0]\n",
    "#     file_path = folder_path+entry\n",
    "#     print(file_path)\n",
    "#     temp_df = pd.read_csv(file_path, sep=' ', names=['Feature1',\"Feature2\"])\n",
    "#     temp_df['Class'] = class_label\n",
    "#     df_list.append(temp_df)\n",
    "#     print(temp_df)"
   ]
  },
  {
   "cell_type": "code",
   "execution_count": 7,
   "id": "15f9f1cb",
   "metadata": {
    "scrolled": true
   },
   "outputs": [],
   "source": [
    "# merged_df = pd.concat(df_list, ignore_index=True)"
   ]
  },
  {
   "cell_type": "code",
   "execution_count": null,
   "id": "4d2df8fa",
   "metadata": {
    "scrolled": true
   },
   "outputs": [],
   "source": []
  },
  {
   "cell_type": "code",
   "execution_count": 8,
   "id": "9f355b26",
   "metadata": {
    "scrolled": true
   },
   "outputs": [
    {
     "name": "stdout",
     "output_type": "stream",
     "text": [
      "    Feature1    Feature2   Class\n",
      "0  363.28125   707.03125  class1\n",
      "1  375.00000   687.50000  class1\n",
      "2  437.50000  1000.00000  class1\n",
      "3  359.37500   777.34375  class1\n",
      "4  414.06250   816.40625  class1\n"
     ]
    }
   ],
   "source": [
    "print(train_df.head())"
   ]
  },
  {
   "cell_type": "code",
   "execution_count": 9,
   "id": "bed9aa30",
   "metadata": {
    "scrolled": true
   },
   "outputs": [
    {
     "data": {
      "text/plain": [
       "(4926, 3)"
      ]
     },
     "execution_count": 9,
     "metadata": {},
     "output_type": "execute_result"
    }
   ],
   "source": [
    "train_df.shape"
   ]
  },
  {
   "cell_type": "code",
   "execution_count": 10,
   "id": "97bb5b6a",
   "metadata": {
    "scrolled": true
   },
   "outputs": [],
   "source": [
    "# plt.figure(figsize=(10,10))\n",
    "\n",
    "# for class_name in merged_df['Class'].unique():\n",
    "#     print(class_name)"
   ]
  },
  {
   "cell_type": "code",
   "execution_count": 11,
   "id": "0fd9fd71",
   "metadata": {
    "scrolled": true
   },
   "outputs": [
    {
     "data": {
      "image/png": "[encoded data removed]",
      "text/plain": [
       "<Figure size 1000x600 with 1 Axes>"
      ]
     },
     "metadata": {},
     "output_type": "display_data"
    }
   ],
   "source": [
    "# df = merged_df[[\"Feature1\",\"Feature2\",\"Class\"]]\n",
    "plt.figure(figsize=(10, 6))\n",
    "for cls in train_df['Class'].unique():\n",
    "    subset = train_df[train_df['Class'] == cls]\n",
    "    plt.scatter(subset['Feature1'], subset['Feature2'], label=cls)\n",
    "\n",
    "plt.xlabel('Feature1')\n",
    "plt.ylabel('Feature2')\n",
    "plt.title('Scatter Plot of Features by Class')\n",
    "plt.legend()\n",
    "plt.show()"
   ]
  },
  {
   "cell_type": "code",
   "execution_count": 12,
   "id": "e353ba5d",
   "metadata": {
    "scrolled": true
   },
   "outputs": [
    {
     "name": "stdout",
     "output_type": "stream",
     "text": [
      "Feature1    0\n",
      "Feature2    0\n",
      "Class       0\n",
      "dtype: int64\n"
     ]
    }
   ],
   "source": [
    "print(train_df.isna().sum())"
   ]
  },
  {
   "cell_type": "code",
   "execution_count": null,
   "id": "d56ff797",
   "metadata": {
    "scrolled": true
   },
   "outputs": [],
   "source": []
  },
  {
   "cell_type": "code",
   "execution_count": 13,
   "id": "de859ca8",
   "metadata": {
    "scrolled": true
   },
   "outputs": [],
   "source": [
    "def mean(x: list[float]) -> float:\n",
    "    ''' Docstring \n",
    "    \n",
    "    '''\n",
    "    return sum(x)/len(x)\n",
    "\n",
    "def covariance(x: list[float],y: list[float]) -> float:\n",
    "    ''' Docstring dfghjk\n",
    "    \n",
    "    '''\n",
    "    if len(x) != len(y):\n",
    "        raise ValueError(\"Length mismatch between input lists\")\n",
    "    numerator = 0\n",
    "    x_mean = mean(x)\n",
    "    y_mean = mean(y)\n",
    "    for i, j in zip(x,y):\n",
    "        numerator += (i-x_mean)*(j-y_mean)\n",
    "        \n",
    "    return numerator/(len(x)-1)\n",
    "\n",
    "def covariance_matrix(class_data, mean_vector=0):\n",
    "    n_samples = len(class_data)\n",
    "    n_features = 2\n",
    "    cov_matrix = [[0.0] * n_features for _ in range(n_features)]\n",
    "    \n",
    "    for i in range(n_features):\n",
    "        for j in range(n_features):\n",
    "            cov_matrix[i][j] = covariance(class_data.iloc[:, i], class_data.iloc[:, j])\n",
    "    return cov_matrix"
   ]
  },
  {
   "cell_type": "code",
   "execution_count": 14,
   "id": "504bc455",
   "metadata": {
    "scrolled": true
   },
   "outputs": [],
   "source": [
    "# covariance([1,2,3],[1,4,6])"
   ]
  },
  {
   "cell_type": "code",
   "execution_count": 15,
   "id": "0451284f",
   "metadata": {
    "scrolled": true
   },
   "outputs": [],
   "source": [
    "# df['Class'].unique()"
   ]
  },
  {
   "cell_type": "code",
   "execution_count": 16,
   "id": "edb6386b",
   "metadata": {
    "scrolled": true
   },
   "outputs": [],
   "source": [
    "# covariance_matrix(merged_df)"
   ]
  },
  {
   "cell_type": "code",
   "execution_count": 17,
   "id": "3dfa7e6a",
   "metadata": {
    "scrolled": true
   },
   "outputs": [],
   "source": [
    "def average_variance(class_dataset):\n",
    "    total_variance = 0\n",
    "    total_count = 0\n",
    "    for class_data in class_dataset:\n",
    "        cov_mat = covariance_matrix(class_data)\n",
    "        for i in range(len(cov_mat)):\n",
    "            total_variance += cov_mat[i][i]\n",
    "            total_count += 1\n",
    "    return total_variance/total_count\n",
    "\n",
    "def shared_covariance_matrix_sigma_squared_I(class_datasets: list):\n",
    "    sigma_squared = average_variance(class_datasets)\n",
    "    n_features = len(class_datasets[0].columns)\n",
    "    return [[sigma_squared if i == j else 0 for j in range(n_features)] for i in range(n_features)]"
   ]
  },
  {
   "cell_type": "code",
   "execution_count": 18,
   "id": "30c14e12",
   "metadata": {
    "scrolled": true
   },
   "outputs": [],
   "source": [
    "def compute_class_means_and_priors(train_df):\n",
    "    class_means = {}\n",
    "    priors = {}\n",
    "\n",
    "    total_samples = len(train_df)\n",
    "\n",
    "    for cls in train_df['Class'].unique():\n",
    "        class_data = train_df[train_df['Class'] == cls][['Feature1', 'Feature2']]\n",
    "        feature1_values = class_data['Feature1'].tolist()\n",
    "        feature2_values = class_data['Feature2'].tolist()\n",
    "        \n",
    "        mean_feature1 = sum(feature1_values) / len(feature1_values)\n",
    "        mean_feature2 = sum(feature2_values) / len(feature2_values)\n",
    "\n",
    "        class_means[cls] = [mean_feature1, mean_feature2]\n",
    "        priors[cls] = len(class_data) / total_samples\n",
    "\n",
    "    return class_means, priors\n",
    "\n",
    "def discriminant_sigma2I(x, mean_vec, sigma2, prior):\n",
    "    x = np.array(x)\n",
    "    mean_vec = np.array(mean_vec)\n",
    "\n",
    "    diff = x - mean_vec\n",
    "    term1 = -0.5 * np.dot(diff.T, diff) / sigma2\n",
    "    term2 = np.log(prior)\n",
    "\n",
    "    return term1 + term2\n",
    "    \n",
    "\n",
    "def predict_sigma2I(test_df, class_means, priors, sigma2):\n",
    "    predictions = []\n",
    "\n",
    "    for _, row in test_df.iterrows():\n",
    "        x = [row['Feature1'], row['Feature2']]\n",
    "        scores = {}\n",
    "\n",
    "        for cls in class_means:\n",
    "            score = discriminant_sigma2I(x, class_means[cls], sigma2, priors[cls])\n",
    "            scores[cls] = score\n",
    "\n",
    "        predicted_class = max(scores, key=scores.get)\n",
    "        predictions.append(predicted_class)\n",
    "\n",
    "    return predictions\n",
    "\n"
   ]
  },
  {
   "cell_type": "code",
   "execution_count": 19,
   "id": "8aba1901",
   "metadata": {
    "scrolled": true
   },
   "outputs": [],
   "source": [
    "import numpy as np\n",
    "class_data_train = [train_df[train_df['Class'] == c][['Feature1', 'Feature2']] for c in train_df['Class'].unique()]\n",
    "\n",
    "# Step 3: Get sigma²\n",
    "sigma2_cov = shared_covariance_matrix_sigma_squared_I(class_data_train)\n",
    "sigma2 = sigma2_cov[0][0]  # since diagonal and same for all\n",
    "\n",
    "# Step 4: Compute means and priors\n",
    "class_means, priors = compute_class_means_and_priors(train_df)\n",
    "\n",
    "# Step 5: Predict\n",
    "test_df['Predicted'] = predict_sigma2I(test_df, class_means, priors, sigma2)"
   ]
  },
  {
   "cell_type": "code",
   "execution_count": null,
   "id": "79651276",
   "metadata": {
    "scrolled": false
   },
   "outputs": [],
   "source": []
  },
  {
   "cell_type": "code",
   "execution_count": 20,
   "id": "671f7d81",
   "metadata": {
    "scrolled": true
   },
   "outputs": [],
   "source": [
    "def confusion_matrix(true_labels, predicted_labels, classes):\n",
    "    # Initialize matrix as dict of dicts for clarity\n",
    "    matrix = {true_cls: {pred_cls: 0 for pred_cls in classes} for true_cls in classes}\n",
    "\n",
    "    for t, p in zip(true_labels, predicted_labels):\n",
    "        matrix[t][p] += 1\n",
    "\n",
    "    return matrix\n",
    "\n",
    "def accuracy(true_labels, predicted_labels):\n",
    "    correct = sum(t == p for t, p in zip(true_labels, predicted_labels))\n",
    "    total = len(true_labels)\n",
    "    return correct / total if total > 0 else 0\n",
    "\n",
    "def precision_recall_f1(conf_matrix, classes):\n",
    "    precision = {}\n",
    "    recall = {}\n",
    "    f1 = {}\n",
    "\n",
    "    for cls in classes:\n",
    "        TP = conf_matrix[cls][cls]\n",
    "        FP = sum(conf_matrix[other][cls] for other in classes if other != cls)\n",
    "        FN = sum(conf_matrix[cls][other] for other in classes if other != cls)\n",
    "\n",
    "        prec = TP / (TP + FP) if (TP + FP) > 0 else 0\n",
    "        rec = TP / (TP + FN) if (TP + FN) > 0 else 0\n",
    "        f1_score = 2 * prec * rec / (prec + rec) if (prec + rec) > 0 else 0\n",
    "\n",
    "        precision[cls] = prec\n",
    "        recall[cls] = rec\n",
    "        f1[cls] = f1_score\n",
    "\n",
    "    mean_precision = sum(precision.values()) / len(classes)\n",
    "    mean_recall = sum(recall.values()) / len(classes)\n",
    "    mean_f1 = sum(f1.values()) / len(classes)\n",
    "\n",
    "    return precision, recall, f1, mean_precision, mean_recall, mean_f1\n"
   ]
  },
  {
   "cell_type": "code",
   "execution_count": 21,
   "id": "c20c1c21",
   "metadata": {},
   "outputs": [
    {
     "name": "stdout",
     "output_type": "stream",
     "text": [
      "\n",
      "\n",
      "Confusion Matrix:\n",
      " {'class1': {'class1': 746, 'class2': 1, 'class3': 0}, 'class2': {'class1': 19, 'class2': 631, 'class3': 0}, 'class3': {'class1': 1, 'class2': 2, 'class3': 714}}\n",
      "\n",
      "\n",
      "Accuracy:\n",
      " 0.989120151371807\n",
      "\n",
      "\n",
      "Precision per class:\n",
      " {'class1': 0.9738903394255874, 'class2': 0.9952681388012619, 'class3': 1.0}\n",
      "\n",
      "\n",
      "Recall per class:\n",
      " {'class1': 0.998661311914324, 'class2': 0.9707692307692307, 'class3': 0.99581589958159}\n",
      "\n",
      "\n",
      "F1 Score per class:\n",
      " {'class1': 0.9861202908129543, 'class2': 0.9828660436137072, 'class3': 0.9979035639412999}\n",
      "\n",
      "\n",
      "Mean Precision:\n",
      " 0.9897194927422831\n",
      "\n",
      "\n",
      "Mean Recall:\n",
      " 0.9884154807550481\n",
      "\n",
      "\n",
      "Mean F1 Score:\n",
      " 0.9889632994559872\n"
     ]
    }
   ],
   "source": [
    "true_labels = test_df['Class'].tolist()\n",
    "predicted_labels = test_df['Predicted'].tolist()\n",
    "classes = list(test_df['Class'].unique())\n",
    "\n",
    "cm = confusion_matrix(true_labels, predicted_labels, classes)\n",
    "acc = accuracy(true_labels, predicted_labels)\n",
    "prec, rec, f1, mean_prec, mean_rec, mean_f1 = precision_recall_f1(cm, classes)\n",
    "\n",
    "print(\"\\n\\nConfusion Matrix:\\n\", cm)\n",
    "print(\"\\n\\nAccuracy:\\n\", acc)\n",
    "print(\"\\n\\nPrecision per class:\\n\", prec)\n",
    "print(\"\\n\\nRecall per class:\\n\", rec)\n",
    "print(\"\\n\\nF1 Score per class:\\n\", f1)\n",
    "print(\"\\n\\nMean Precision:\\n\", mean_prec)\n",
    "print(\"\\n\\nMean Recall:\\n\", mean_rec)\n",
    "print(\"\\n\\nMean F1 Score:\\n\", mean_f1)\n"
   ]
  },
  {
   "cell_type": "code",
   "execution_count": 22,
   "id": "c33b9891",
   "metadata": {},
   "outputs": [
    {
     "name": "stdout",
     "output_type": "stream",
     "text": [
      "\n",
      "=== Confusion Matrix ===\n",
      "        class1  class2  class3\n",
      "class1     746       1       0\n",
      "class2      19     631       0\n",
      "class3       1       2     714\n",
      "\n",
      "=== Classification Report ===\n",
      "        Precision    Recall  F1-Score\n",
      "class1   0.973890  0.998661  0.986120\n",
      "class2   0.995268  0.970769  0.982866\n",
      "class3   1.000000  0.995816  0.997904\n",
      "\n",
      "=== Summary ===\n",
      "Accuracy     : 0.989120151371807\n",
      "Mean Precision: 0.9897194927422831\n",
      "Mean Recall   : 0.9884154807550481\n",
      "Mean F1 Score : 0.9889632994559872\n"
     ]
    }
   ],
   "source": [
    "def pretty_print_results(cm, acc, prec, rec, f1, mean_prec, mean_rec, mean_f1):\n",
    "    print(\"\\n=== Confusion Matrix ===\")\n",
    "    cm_df = pd.DataFrame(cm).T  # Convert dict-of-dict to DataFrame\n",
    "    print(cm_df)\n",
    "\n",
    "    print(\"\\n=== Classification Report ===\")\n",
    "    report_df = pd.DataFrame({\n",
    "        \"Precision\": prec,\n",
    "        \"Recall\": rec,\n",
    "        \"F1-Score\": f1\n",
    "    })\n",
    "    print(report_df)\n",
    "\n",
    "    print(\"\\n=== Summary ===\")\n",
    "    print(f\"Accuracy     : {acc}\")\n",
    "    print(f\"Mean Precision: {mean_prec}\")\n",
    "    print(f\"Mean Recall   : {mean_rec}\")\n",
    "    print(f\"Mean F1 Score : {mean_f1}\")\n",
    "\n",
    "pretty_print_results(cm, acc, prec, rec, f1, mean_prec, mean_rec, mean_f1)\n"
   ]
  },
  {
   "cell_type": "code",
   "execution_count": 23,
   "id": "99e9f523",
   "metadata": {},
   "outputs": [],
   "source": [
    "# import pandas as pd\n",
    "# import numpy\n",
    "# df = merged_df\n",
    "# # Load data\n",
    "# # df = pd.read_csv(\"your_data.csv\")  # Replace with actual filename\n",
    "\n",
    "# # Split data into list of DataFrames by class\n",
    "# class_data = [df[df['Class'] == c][['Feature1', 'Feature2']] for c in df['Class'].unique()]\n",
    "\n",
    "# # Get shared covariance matrix of form σ² * I\n",
    "# shared_cov = shared_covariance_matrix_sigma_squared_I(class_data)\n",
    "\n",
    "# # Display\n",
    "# print(\"Shared Covariance Matrix (σ² * I):\")\n",
    "# print(shared_cov)"
   ]
  },
  {
   "cell_type": "code",
   "execution_count": 24,
   "id": "b56f7cf9",
   "metadata": {
    "scrolled": true
   },
   "outputs": [],
   "source": [
    "import numpy as np\n",
    "import matplotlib.pyplot as plt\n",
    "from matplotlib.patches import Ellipse\n",
    "\n",
    "def plot_density_contours(train_df, class_means, class_covs, title=\"Constant Density Contours\"):\n",
    "    \"\"\"\n",
    "    Plots Gaussian density contours for each class with training data.\n",
    "    class_means: dict {class_name: [mean1, mean2]}\n",
    "    class_covs: dict {class_name: covariance_matrix (2x2)}\n",
    "    \"\"\"\n",
    "\n",
    "    plt.figure(figsize=(8, 6))\n",
    "\n",
    "    colors = [\"red\", \"blue\", \"green\", \"purple\", \"orange\"]\n",
    "\n",
    "    for idx, cls in enumerate(train_df['Class'].unique()):\n",
    "        subset = train_df[train_df['Class'] == cls]\n",
    "        plt.scatter(subset['Feature1'], subset['Feature2'], \n",
    "                    label=cls, alpha=0.6, color=colors[idx % len(colors)])\n",
    "\n",
    "        mean = np.array(class_means[cls])\n",
    "        cov = np.array(class_covs[cls])\n",
    "\n",
    "        # Eigen decomposition for ellipse axes\n",
    "        eigvals, eigvecs = np.linalg.eigh(cov)\n",
    "        order = eigvals.argsort()[::-1]\n",
    "        eigvals, eigvecs = eigvals[order], eigvecs[:, order]\n",
    "\n",
    "        # Ellipse parameters\n",
    "        angle = np.degrees(np.arctan2(*eigvecs[:,0][::-1]))\n",
    "        \n",
    "        # Plot 1σ, 2σ, 3σ contours\n",
    "        for scale in [1, 2, 3]:\n",
    "            width, height = 2 * scale * np.sqrt(eigvals)\n",
    "            ellipse = Ellipse(mean, width, height, angle,\n",
    "                              edgecolor=colors[idx % len(colors)], \n",
    "                              facecolor='none', linewidth=2, alpha=0.7)\n",
    "            plt.gca().add_patch(ellipse)\n",
    "\n",
    "    plt.xlabel(\"Feature1\")\n",
    "    plt.ylabel(\"Feature2\")\n",
    "    plt.title(title)\n",
    "    plt.legend()\n",
    "    plt.grid(True)\n",
    "    plt.show()\n"
   ]
  },
  {
   "cell_type": "code",
   "execution_count": 25,
   "id": "9ba83b7c",
   "metadata": {},
   "outputs": [
    {
     "name": "stderr",
     "output_type": "stream",
     "text": [
      "C:\\Users\\Pratik Manusmare\\AppData\\Local\\Temp\\ipykernel_524\\3287962850.py:35: MatplotlibDeprecationWarning: Passing the angle parameter of __init__() positionally is deprecated since Matplotlib 3.6; the parameter will become keyword-only two minor releases later.\n",
      "  ellipse = Ellipse(mean, width, height, angle,\n"
     ]
    },
    {
     "data": {
      "image/png": "[encoded data removed]",
      "text/plain": [
       "<Figure size 800x600 with 1 Axes>"
      ]
     },
     "metadata": {},
     "output_type": "display_data"
    }
   ],
   "source": [
    "# Build dict of class covariances\n",
    "class_covs = {}\n",
    "for cls in train_df['Class'].unique():\n",
    "    class_data = train_df[train_df['Class'] == cls][['Feature1', 'Feature2']]\n",
    "    class_covs[cls] = np.array(covariance_matrix(class_data))\n",
    "\n",
    "# Plot\n",
    "plot_density_contours(train_df, class_means, class_covs, title=\"Training Data with Constant Density Contours\")\n"
   ]
  },
  {
   "cell_type": "code",
   "execution_count": 26,
   "id": "eb28f7f6",
   "metadata": {},
   "outputs": [],
   "source": [
    "from itertools import combinations\n",
    "\n",
    "def classify_point_sigma2I(x, class_means, covs, priors):\n",
    "    sigma2 = covs[list(covs.keys())[0]][0][0]  # shared σ²\n",
    "    scores = {}\n",
    "    for cls, mean_vec in class_means.items():\n",
    "        diff = np.array(x) - np.array(mean_vec)\n",
    "        term1 = -0.5 * np.dot(diff.T, diff) / sigma2\n",
    "        term2 = np.log(priors[cls])\n",
    "        scores[cls] = term1 + term2\n",
    "    return max(scores, key=scores.get)\n",
    "\n",
    "\n",
    "def plot_decision_regions(train_df, class_means, class_covs, priors, classifier_fn, title=\"Decision Regions\"):\n",
    "    x_min, x_max = train_df['Feature1'].min() - 1, train_df['Feature1'].max() + 1\n",
    "    y_min, y_max = train_df['Feature2'].min() - 1, train_df['Feature2'].max() + 1\n",
    "\n",
    "    xx, yy = np.meshgrid(np.linspace(x_min, x_max, 300),\n",
    "                         np.linspace(y_min, y_max, 300))\n",
    "\n",
    "    Z = []\n",
    "    for i in range(xx.shape[0]):\n",
    "        row_preds = []\n",
    "        for j in range(xx.shape[1]):\n",
    "            point = [xx[i, j], yy[i, j]]\n",
    "            pred = classifier_fn(point, class_means, class_covs, priors)\n",
    "            row_preds.append(pred)\n",
    "        Z.append(row_preds)\n",
    "    Z = np.array(Z)\n",
    "\n",
    "    plt.figure(figsize=(8, 6))\n",
    "\n",
    "    # plot regions\n",
    "    unique_classes = train_df['Class'].unique()\n",
    "#     colors = [\"#FF0000\", \"#0000FF\", \"#f652a0\", \"#f652a0\", \"#f652a0\"]\n",
    "    colors = [\"#8dd3c7\", \"#fb8072\", \"#80b1d3\", \"#fdb462\", \"#b3de69\", \"#fccde5\", \"#d9d9d9\"]\n",
    "#     colors = [\"#e41a1c\", \"#377eb8\", \"#4daf4a\", \"#984ea3\", \"#ff7f00\", \"#ffff33\", \"#a65628\"]\n",
    "\n",
    "\n",
    "    \n",
    "    cmap = {cls: colors[i % len(colors)] for i, cls in enumerate(unique_classes)}\n",
    "\n",
    "    for cls in unique_classes:\n",
    "        mask = (Z == cls)\n",
    "        plt.contour(xx, yy, Z, colors='k', linewidths=2)\n",
    "\n",
    "    # overlay training points\n",
    "    markers = ['o', 's', '^', 'x', 'D']\n",
    "    for i, cls in enumerate(unique_classes):\n",
    "        subset = train_df[train_df['Class'] == cls]\n",
    "        plt.scatter(subset['Feature1'], subset['Feature2'],\n",
    "                    label=cls, edgecolor='k', alpha=0.8, marker=markers[i % len(markers)])\n",
    "\n",
    "    plt.xlabel(\"Feature1\")\n",
    "    plt.ylabel(\"Feature2\")\n",
    "    plt.title(title)\n",
    "    plt.legend()\n",
    "    plt.show()\n",
    "\n",
    "\n"
   ]
  },
  {
   "cell_type": "code",
   "execution_count": 27,
   "id": "b2404d79",
   "metadata": {},
   "outputs": [
    {
     "ename": "NameError",
     "evalue": "name 'plot_pairwise_decision_regions' is not defined",
     "output_type": "error",
     "traceback": [
      "\u001b[1;31m---------------------------------------------------------------------------\u001b[0m",
      "\u001b[1;31mNameError\u001b[0m                                 Traceback (most recent call last)",
      "Cell \u001b[1;32mIn[27], line 114\u001b[0m\n\u001b[0;32m    110\u001b[0m     plt\u001b[38;5;241m.\u001b[39mlegend()\n\u001b[0;32m    111\u001b[0m     plt\u001b[38;5;241m.\u001b[39mshow()\n\u001b[1;32m--> 114\u001b[0m \u001b[43mplot_pairwise_decision_regions\u001b[49m(train_df, class_means, class_covs, priors, classify_point_sigma2I)\n",
      "\u001b[1;31mNameError\u001b[0m: name 'plot_pairwise_decision_regions' is not defined"
     ]
    }
   ],
   "source": [
    "# import numpy as np\n",
    "# import matplotlib.pyplot as plt\n",
    "\n",
    "# def plot_decision_regions(train_df, class_means, class_covs, priors, classifier_fn, title=\"Decision Regions\"):\n",
    "#     x_min, x_max = train_df['Feature1'].min() - 1, train_df['Feature1'].max() + 1\n",
    "#     y_min, y_max = train_df['Feature2'].min() - 1, train_df['Feature2'].max() + 1\n",
    "\n",
    "#     xx, yy = np.meshgrid(np.linspace(x_min, x_max, 300),\n",
    "#                          np.linspace(y_min, y_max, 300))\n",
    "\n",
    "#     Z = []\n",
    "#     for i in range(xx.shape[0]):\n",
    "#         row_preds = []\n",
    "#         for j in range(xx.shape[1]):\n",
    "#             point = [xx[i, j], yy[i, j]]\n",
    "#             pred = classifier_fn(point, class_means, class_covs, priors)\n",
    "#             row_preds.append(pred)\n",
    "#         Z.append(row_preds)\n",
    "#     Z = np.array(Z)\n",
    "\n",
    "#     plt.figure(figsize=(8, 6))\n",
    "\n",
    "#     # Define colors: Red and Blue for classes\n",
    "#     unique_classes = sorted(train_df['Class'].unique())\n",
    "#     # Assuming two classes: e.g. 0 and 1 or 'red' and 'blue' labels\n",
    "#     cmap = {unique_classes[0]: 'red', unique_classes[1]: 'blue'}\n",
    "\n",
    "#     # Set white background\n",
    "#     plt.gca().set_facecolor('white')\n",
    "\n",
    "#     # Plot decision regions (filled)\n",
    "#     for cls in unique_classes:\n",
    "#         mask = (Z == cls)\n",
    "#         plt.contourf(xx, yy, mask, alpha=0.3, colors=[cmap[cls]])\n",
    "\n",
    "#     # Plot decision boundary (where decision changes)\n",
    "#     # Create an array to represent class predictions at each point\n",
    "#     Z_int = Z.astype(int)\n",
    "#     # Decision boundary at edges where prediction changes, plot as contour line\n",
    "#     plt.contour(xx, yy, Z_int, levels=[0.5], colors='black', linewidths=2)\n",
    "\n",
    "#     # Overlay training points\n",
    "#     markers = ['o', 's', '^', 'x', 'D']\n",
    "#     for i, cls in enumerate(unique_classes):\n",
    "#         subset = train_df[train_df['Class'] == cls]\n",
    "#         plt.scatter(subset['Feature1'], subset['Feature2'],\n",
    "#                     label=cls, edgecolor='k', alpha=0.8,\n",
    "#                     marker=markers[i % len(markers)],\n",
    "#                     color=cmap[cls])\n",
    "\n",
    "#     plt.xlabel(\"Feature1\")\n",
    "#     plt.ylabel(\"Feature2\")\n",
    "#     plt.title(title)\n",
    "#     plt.legend()\n",
    "\n",
    "#     # Optional: set the axis spines color to black to highlight border\n",
    "#     ax = plt.gca()\n",
    "#     for spine in ax.spines.values():\n",
    "#         spine.set_edgecolor('black')\n",
    "#         spine.set_linewidth(1.5)\n",
    "\n",
    "#     plt.show()\n",
    "\n",
    "def plot_decision_regions(train_df, class_means, class_covs, priors, classifier_fn, title=\"Decision Regions\"):\n",
    "    x_min, x_max = train_df['Feature1'].min() - 1, train_df['Feature1'].max() + 1\n",
    "    y_min, y_max = train_df['Feature2'].min() - 1, train_df['Feature2'].max() + 1\n",
    "\n",
    "    xx, yy = np.meshgrid(np.linspace(x_min, x_max, 300),\n",
    "                         np.linspace(y_min, y_max, 300))\n",
    "\n",
    "    Z = []\n",
    "    for i in range(xx.shape[0]):\n",
    "        row_preds = []\n",
    "        for j in range(xx.shape[1]):\n",
    "            point = [xx[i, j], yy[i, j]]\n",
    "            pred = classifier_fn(point, class_means, class_covs, priors)\n",
    "            row_preds.append(pred)\n",
    "        Z.append(row_preds)\n",
    "    Z = np.array(Z)\n",
    "\n",
    "    plt.figure(figsize=(8, 6))\n",
    "\n",
    "    unique_classes = train_df['Class'].unique()\n",
    "    colors = [\"#8dd3c7\", \"#fb8072\", \"#80b1d3\", \"#fdb462\", \"#b3de69\", \"#fccde5\", \"#d9d9d9\"]\n",
    "    colors = [\"#ffffff\", \"#000000\"]\n",
    "    cmap = {cls: colors[i % len(colors)] for i, cls in enumerate(unique_classes)}\n",
    "\n",
    "    # Map class labels to integers for contour plotting\n",
    "    class_to_int = {cls: i for i, cls in enumerate(unique_classes)}\n",
    "    Z_int = np.vectorize(class_to_int.get)(Z)\n",
    "\n",
    "    # Plot filled contours with colors for each class\n",
    "    for cls in unique_classes:\n",
    "        mask = (Z == cls)\n",
    "        plt.contourf(xx, yy, mask, alpha=0.3, colors=[cmap[cls]])\n",
    "\n",
    "    # Plot black contour lines between classes using numeric Z_int\n",
    "    plt.contour(xx, yy, Z_int, colors='k', linewidths=1)\n",
    "\n",
    "    # Overlay training points\n",
    "    markers = ['o', 's', '^', 'x', 'D']\n",
    "    for i, cls in enumerate(unique_classes):\n",
    "        subset = train_df[train_df['Class'] == cls]\n",
    "        plt.scatter(subset['Feature1'], subset['Feature2'],\n",
    "                    label=cls, edgecolor='k', alpha=0.8, marker=markers[i % len(markers)])\n",
    "\n",
    "    plt.xlabel(\"Feature1\")\n",
    "    plt.ylabel(\"Feature2\")\n",
    "    plt.title(title)\n",
    "    plt.legend()\n",
    "    plt.show()\n",
    "\n",
    "\n",
    "plot_pairwise_decision_regions(train_df, class_means, class_covs, priors, classify_point_sigma2I)"
   ]
  }
 ],
 "metadata": {
  "kernelspec": {
   "display_name": "Python 3 (ipykernel)",
   "language": "python",
   "name": "python3"
  },
  "language_info": {
   "codemirror_mode": {
    "name": "ipython",
    "version": 3
   },
   "file_extension": ".py",
   "mimetype": "text/x-python",
   "name": "python",
   "nbconvert_exporter": "python",
   "pygments_lexer": "ipython3",
   "version": "3.10.9"
  }
 },
 "nbformat": 4,
 "nbformat_minor": 5
}
