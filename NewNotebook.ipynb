{
    "cells": [
        {
            "cell_type": "markdown",
            "metadata": {},
            "source": [
                "# New Jupyter Notebook\n",
                "This is a new notebook. Add your code and notes below."
            ]
        },
        {
            "cell_type": "code",
            "metadata": {},
            "source": [
                "# Example: Print Hello World\n",
                "print('Hello, world!')"
            ]
        }
    ],
    "metadata": {
        "kernelspec": {
            "display_name": "Python 3",
            "language": "python",
            "name": "python3"
        },
        "language_info": {
            "name": "python",
            "version": ""
        }
    },
    "nbformat": 4,
    "nbformat_minor": 5
}