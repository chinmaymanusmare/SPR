{
 "cells": [
  {
   "cell_type": "code",
   "execution_count": 3,
   "id": "331083aa",
   "metadata": {
    "collapsed": true,
    "scrolled": true
   },
   "outputs": [],
   "source": [
    "import pandas as pd\n",
    "import matplotlib.pyplot as plt\n",
    "import os"
   ]
  },
  {
   "cell_type": "code",
   "execution_count": 4,
   "id": "7f9f2f78",
   "metadata": {
    "collapsed": true,
    "scrolled": true
   },
   "outputs": [],
   "source": [
    "df_list = []"
   ]
  },
  {
   "cell_type": "code",
   "execution_count": 5,
   "id": "c89507b0",
   "metadata": {
    "collapsed": true,
    "scrolled": true
   },
   "outputs": [],
   "source": [
    "folder_path = '../../Dataset/Group04/LS_Group04/'\n",
    "\n",
    "all_entries = os.listdir(folder_path)"
   ]
  },
  {
   "cell_type": "code",
   "execution_count": 6,
   "id": "2a9ede27",
   "metadata": {
    "collapsed": true,
    "scrolled": true
   },
   "outputs": [
    {
     "name": "stdout",
     "output_type": "stream",
     "text": [
      "['Class1.txt', 'Class2.txt', 'Class3.txt']\n"
     ]
    }
   ],
   "source": [
    "print(all_entries)\n"
   ]
  },
  {
   "cell_type": "code",
   "execution_count": null,
   "id": "11d439de",
   "metadata": {
    "collapsed": true,
    "scrolled": true
   },
   "outputs": [],
   "source": []
  },
  {
   "cell_type": "code",
   "execution_count": 7,
   "id": "108a0bb5",
   "metadata": {
    "collapsed": true,
    "scrolled": true
   },
   "outputs": [
    {
     "name": "stdout",
     "output_type": "stream",
     "text": [
      "../../Dataset/Group04/LS_Group04/Class1.txt\n",
      "     Feature1  Feature2   Class\n",
      "0      9.4903   4.40290  Class1\n",
      "1     18.2680  -2.24220  Class1\n",
      "2     14.1430  -1.63080  Class1\n",
      "3     17.6130   0.16105  Class1\n",
      "4     13.2270  -0.23594  Class1\n",
      "..        ...       ...     ...\n",
      "495   22.7480  -3.90600  Class1\n",
      "496   15.9820  -1.55230  Class1\n",
      "497   15.8320  -0.40416  Class1\n",
      "498   19.6000  -1.93800  Class1\n",
      "499   17.8080  -0.48951  Class1\n",
      "\n",
      "[500 rows x 3 columns]\n",
      "../../Dataset/Group04/LS_Group04/Class2.txt\n",
      "     Feature1  Feature2   Class\n",
      "0      5.9684   -10.849  Class2\n",
      "1      4.1858   -14.468  Class2\n",
      "2      7.9763   -13.014  Class2\n",
      "3      5.3575   -10.262  Class2\n",
      "4      5.2711   -12.143  Class2\n",
      "..        ...       ...     ...\n",
      "495    6.6261   -12.569  Class2\n",
      "496    9.2061   -14.545  Class2\n",
      "497    3.7285   -11.442  Class2\n",
      "498    5.4821   -14.701  Class2\n",
      "499    5.4432   -13.536  Class2\n",
      "\n",
      "[500 rows x 3 columns]\n",
      "../../Dataset/Group04/LS_Group04/Class3.txt\n",
      "     Feature1  Feature2   Class\n",
      "0    -0.21891   5.95600  Class3\n",
      "1    -1.16990   2.35950  Class3\n",
      "2    -2.19340  -6.10260  Class3\n",
      "3    -0.96509   0.53245  Class3\n",
      "4    -1.86840  -4.31400  Class3\n",
      "..        ...       ...     ...\n",
      "495  -0.22483  -0.36989  Class3\n",
      "496  -1.83380   1.26850  Class3\n",
      "497  -1.00150   0.10317  Class3\n",
      "498  -0.26044  11.04900  Class3\n",
      "499  -0.89128   3.24640  Class3\n",
      "\n",
      "[500 rows x 3 columns]\n"
     ]
    }
   ],
   "source": [
    "for entry in all_entries:\n",
    "    class_label = entry.split('.')[0]\n",
    "    file_path = folder_path+entry\n",
    "    print(file_path)\n",
    "    temp_df = pd.read_csv(file_path, sep=' ', names=['Feature1',\"Feature2\"])\n",
    "    temp_df['Class'] = class_label\n",
    "    df_list.append(temp_df)\n",
    "    print(temp_df)"
   ]
  },
  {
   "cell_type": "code",
   "execution_count": 8,
   "id": "15f9f1cb",
   "metadata": {
    "collapsed": true,
    "scrolled": true
   },
   "outputs": [],
   "source": [
    "merged_df = pd.concat(df_list, ignore_index=True)"
   ]
  },
  {
   "cell_type": "code",
   "execution_count": 9,
   "id": "4d2df8fa",
   "metadata": {
    "collapsed": true,
    "scrolled": true
   },
   "outputs": [
    {
     "data": {
      "text/html": [
       "<div>\n",
       "<style scoped>\n",
       "    .dataframe tbody tr th:only-of-type {\n",
       "        vertical-align: middle;\n",
       "    }\n",
       "\n",
       "    .dataframe tbody tr th {\n",
       "        vertical-align: top;\n",
       "    }\n",
       "\n",
       "    .dataframe thead th {\n",
       "        text-align: right;\n",
       "    }\n",
       "</style>\n",
       "<table border=\"1\" class=\"dataframe\">\n",
       "  <thead>\n",
       "    <tr style=\"text-align: right;\">\n",
       "      <th></th>\n",
       "      <th>Feature1</th>\n",
       "      <th>Feature2</th>\n",
       "      <th>Class</th>\n",
       "    </tr>\n",
       "  </thead>\n",
       "  <tbody>\n",
       "    <tr>\n",
       "      <th>0</th>\n",
       "      <td>9.49030</td>\n",
       "      <td>4.40290</td>\n",
       "      <td>Class1</td>\n",
       "    </tr>\n",
       "    <tr>\n",
       "      <th>1</th>\n",
       "      <td>18.26800</td>\n",
       "      <td>-2.24220</td>\n",
       "      <td>Class1</td>\n",
       "    </tr>\n",
       "    <tr>\n",
       "      <th>2</th>\n",
       "      <td>14.14300</td>\n",
       "      <td>-1.63080</td>\n",
       "      <td>Class1</td>\n",
       "    </tr>\n",
       "    <tr>\n",
       "      <th>3</th>\n",
       "      <td>17.61300</td>\n",
       "      <td>0.16105</td>\n",
       "      <td>Class1</td>\n",
       "    </tr>\n",
       "    <tr>\n",
       "      <th>4</th>\n",
       "      <td>13.22700</td>\n",
       "      <td>-0.23594</td>\n",
       "      <td>Class1</td>\n",
       "    </tr>\n",
       "    <tr>\n",
       "      <th>...</th>\n",
       "      <td>...</td>\n",
       "      <td>...</td>\n",
       "      <td>...</td>\n",
       "    </tr>\n",
       "    <tr>\n",
       "      <th>1495</th>\n",
       "      <td>-0.22483</td>\n",
       "      <td>-0.36989</td>\n",
       "      <td>Class3</td>\n",
       "    </tr>\n",
       "    <tr>\n",
       "      <th>1496</th>\n",
       "      <td>-1.83380</td>\n",
       "      <td>1.26850</td>\n",
       "      <td>Class3</td>\n",
       "    </tr>\n",
       "    <tr>\n",
       "      <th>1497</th>\n",
       "      <td>-1.00150</td>\n",
       "      <td>0.10317</td>\n",
       "      <td>Class3</td>\n",
       "    </tr>\n",
       "    <tr>\n",
       "      <th>1498</th>\n",
       "      <td>-0.26044</td>\n",
       "      <td>11.04900</td>\n",
       "      <td>Class3</td>\n",
       "    </tr>\n",
       "    <tr>\n",
       "      <th>1499</th>\n",
       "      <td>-0.89128</td>\n",
       "      <td>3.24640</td>\n",
       "      <td>Class3</td>\n",
       "    </tr>\n",
       "  </tbody>\n",
       "</table>\n",
       "<p>1500 rows × 3 columns</p>\n",
       "</div>"
      ],
      "text/plain": [
       "      Feature1  Feature2   Class\n",
       "0      9.49030   4.40290  Class1\n",
       "1     18.26800  -2.24220  Class1\n",
       "2     14.14300  -1.63080  Class1\n",
       "3     17.61300   0.16105  Class1\n",
       "4     13.22700  -0.23594  Class1\n",
       "...        ...       ...     ...\n",
       "1495  -0.22483  -0.36989  Class3\n",
       "1496  -1.83380   1.26850  Class3\n",
       "1497  -1.00150   0.10317  Class3\n",
       "1498  -0.26044  11.04900  Class3\n",
       "1499  -0.89128   3.24640  Class3\n",
       "\n",
       "[1500 rows x 3 columns]"
      ]
     },
     "execution_count": 9,
     "metadata": {},
     "output_type": "execute_result"
    }
   ],
   "source": [
    "merged_df"
   ]
  },
  {
   "cell_type": "code",
   "execution_count": 10,
   "id": "9f355b26",
   "metadata": {
    "collapsed": true,
    "scrolled": true
   },
   "outputs": [
    {
     "name": "stdout",
     "output_type": "stream",
     "text": [
      "   Feature1  Feature2   Class\n",
      "0    9.4903   4.40290  Class1\n",
      "1   18.2680  -2.24220  Class1\n",
      "2   14.1430  -1.63080  Class1\n",
      "3   17.6130   0.16105  Class1\n",
      "4   13.2270  -0.23594  Class1\n"
     ]
    }
   ],
   "source": [
    "print(merged_df.head())"
   ]
  },
  {
   "cell_type": "code",
   "execution_count": 11,
   "id": "bed9aa30",
   "metadata": {
    "collapsed": true,
    "scrolled": true
   },
   "outputs": [
    {
     "data": {
      "text/plain": [
       "(1500, 3)"
      ]
     },
     "execution_count": 11,
     "metadata": {},
     "output_type": "execute_result"
    }
   ],
   "source": [
    "merged_df.shape"
   ]
  },
  {
   "cell_type": "code",
   "execution_count": 12,
   "id": "97bb5b6a",
   "metadata": {
    "collapsed": true,
    "scrolled": true
   },
   "outputs": [
    {
     "name": "stdout",
     "output_type": "stream",
     "text": [
      "Class1\n",
      "Class2\n",
      "Class3\n"
     ]
    },
    {
     "data": {
      "text/plain": [
       "<Figure size 1000x1000 with 0 Axes>"
      ]
     },
     "metadata": {},
     "output_type": "display_data"
    }
   ],
   "source": [
    "plt.figure(figsize=(10,10))\n",
    "\n",
    "for class_name in merged_df['Class'].unique():\n",
    "    print(class_name)"
   ]
  },
  {
   "cell_type": "code",
   "execution_count": 13,
   "id": "0fd9fd71",
   "metadata": {
    "collapsed": true,
    "scrolled": true
   },
   "outputs": [
    {
     "data": {
      "image/png": "[encoded data removed]",
      "text/plain": [
       "<Figure size 1000x600 with 1 Axes>"
      ]
     },
     "metadata": {},
     "output_type": "display_data"
    }
   ],
   "source": [
    "df = merged_df[[\"Feature1\",\"Feature2\",\"Class\"]]\n",
    "plt.figure(figsize=(10, 6))\n",
    "for cls in df['Class'].unique():\n",
    "    subset = df[df['Class'] == cls]\n",
    "    plt.scatter(subset['Feature1'], subset['Feature2'], label=cls)\n",
    "\n",
    "plt.xlabel('Feature1')\n",
    "plt.ylabel('Feature2')\n",
    "plt.title('Scatter Plot of Features by Class')\n",
    "plt.legend()\n",
    "plt.show()"
   ]
  },
  {
   "cell_type": "code",
   "execution_count": 14,
   "id": "e353ba5d",
   "metadata": {
    "collapsed": true,
    "scrolled": true
   },
   "outputs": [
    {
     "name": "stdout",
     "output_type": "stream",
     "text": [
      "Feature1    0\n",
      "Feature2    0\n",
      "Class       0\n",
      "dtype: int64\n"
     ]
    }
   ],
   "source": [
    "print(merged_df.isna().sum())"
   ]
  },
  {
   "cell_type": "code",
   "execution_count": 15,
   "id": "d56ff797",
   "metadata": {
    "collapsed": true,
    "scrolled": true
   },
   "outputs": [
    {
     "data": {
      "image/png": "[encoded data removed]",
      "text/plain": [
       "<Figure size 640x480 with 1 Axes>"
      ]
     },
     "metadata": {},
     "output_type": "display_data"
    }
   ],
   "source": [
    "import matplotlib.pyplot as plt\n",
    "\n",
    "plt.scatter(df['Feature1'], df['Feature2'])\n",
    "plt.title('Class1 Data Distribution')\n",
    "plt.xlabel('Feature1')\n",
    "plt.ylabel('Feature2')\n",
    "plt.show()"
   ]
  },
  {
   "cell_type": "code",
   "execution_count": 16,
   "id": "de859ca8",
   "metadata": {
    "collapsed": true,
    "scrolled": true
   },
   "outputs": [],
   "source": [
    "def mean(x: list[float]) -> float:\n",
    "    ''' Docstring \n",
    "    \n",
    "    '''\n",
    "    return sum(x)/len(x)\n",
    "\n",
    "def covariance(x: list[float],y: list[float]) -> float:\n",
    "    ''' Docstring dfghjk\n",
    "    \n",
    "    '''\n",
    "    if len(x) != len(y):\n",
    "        raise ValueError(\"Length mismatch between input lists\")\n",
    "    numerator = 0\n",
    "    x_mean = mean(x)\n",
    "    y_mean = mean(y)\n",
    "    for i, j in zip(x,y):\n",
    "        numerator += (i-x_mean)*(j-y_mean)\n",
    "        \n",
    "    return numerator/(len(x)-1)\n",
    "\n",
    "def covariance_matrix(class_data, mean_vector=0):\n",
    "    n_samples = len(class_data)\n",
    "    n_features = 2\n",
    "    cov_matrix = [[0.0] * n_features for _ in range(n_features)]\n",
    "    \n",
    "    for i in range(n_features):\n",
    "        for j in range(n_features):\n",
    "            cov_matrix[i][j] = covariance(class_data.iloc[:, i], class_data.iloc[:, j])\n",
    "    return cov_matrix"
   ]
  },
  {
   "cell_type": "code",
   "execution_count": 17,
   "id": "504bc455",
   "metadata": {
    "collapsed": true,
    "scrolled": true
   },
   "outputs": [
    {
     "data": {
      "text/plain": [
       "2.5"
      ]
     },
     "execution_count": 17,
     "metadata": {},
     "output_type": "execute_result"
    }
   ],
   "source": [
    "covariance([1,2,3],[1,4,6])"
   ]
  },
  {
   "cell_type": "code",
   "execution_count": 18,
   "id": "0451284f",
   "metadata": {
    "collapsed": true,
    "scrolled": true
   },
   "outputs": [
    {
     "data": {
      "text/plain": [
       "array(['Class1', 'Class2', 'Class3'], dtype=object)"
      ]
     },
     "execution_count": 18,
     "metadata": {},
     "output_type": "execute_result"
    }
   ],
   "source": [
    "df['Class'].unique()"
   ]
  },
  {
   "cell_type": "code",
   "execution_count": 19,
   "id": "edb6386b",
   "metadata": {
    "collapsed": true,
    "scrolled": true
   },
   "outputs": [
    {
     "data": {
      "text/plain": [
       "[[54.39566222899012, -2.011602559098777],\n",
       " [-2.011602559098777, 42.907464545509534]]"
      ]
     },
     "execution_count": 19,
     "metadata": {},
     "output_type": "execute_result"
    }
   ],
   "source": [
    "covariance_matrix(merged_df)"
   ]
  },
  {
   "cell_type": "code",
   "execution_count": 20,
   "id": "3dfa7e6a",
   "metadata": {
    "collapsed": true,
    "scrolled": true
   },
   "outputs": [],
   "source": [
    "def average_variance(class_dataset):\n",
    "    total_variance = 0\n",
    "    total_count = 0\n",
    "    for class_data in class_dataset:\n",
    "        cov_mat = covariance_matrix(class_data)\n",
    "        for i in range(len(cov_mat)):\n",
    "            total_variance += cov_mat[i][i]\n",
    "            total_count += 1\n",
    "    return total_variance/total_count\n",
    "\n",
    "def shared_covariance_matrix_sigma_squared_I(class_datasets: list):\n",
    "    sigma_squared = average_variance(class_datasets)\n",
    "    n_features = len(class_datasets[0].columns)\n",
    "    return [[sigma_squared if i == j else 0 for j in range(n_features)] for i in range(n_features)]"
   ]
  },
  {
   "cell_type": "code",
   "execution_count": 39,
   "id": "30c14e12",
   "metadata": {
    "collapsed": true,
    "scrolled": true
   },
   "outputs": [],
   "source": [
    "def compute_class_means_and_priors(train_df):\n",
    "    class_means = {}\n",
    "    priors = {}\n",
    "\n",
    "    total_samples = len(train_df)\n",
    "\n",
    "    for cls in train_df['Class'].unique():\n",
    "        class_data = train_df[train_df['Class'] == cls][['Feature1', 'Feature2']]\n",
    "        feature1_values = class_data['Feature1'].tolist()\n",
    "        feature2_values = class_data['Feature2'].tolist()\n",
    "        \n",
    "        mean_feature1 = sum(feature1_values) / len(feature1_values)\n",
    "        mean_feature2 = sum(feature2_values) / len(feature2_values)\n",
    "\n",
    "        class_means[cls] = [mean_feature1, mean_feature2]\n",
    "        priors[cls] = len(class_data) / total_samples\n",
    "\n",
    "    return class_means, priors\n",
    "\n",
    "def discriminant_sigma2I(x, mean_vec, sigma2, prior):\n",
    "    x = np.array(x)\n",
    "    mean_vec = np.array(mean_vec)\n",
    "\n",
    "    diff = x - mean_vec\n",
    "    term1 = -0.5 * np.dot(diff.T, diff) / sigma2\n",
    "    term2 = np.log(prior)\n",
    "\n",
    "    return term1 + term2\n",
    "    \n",
    "\n",
    "def predict_sigma2I(test_df, class_means, priors, sigma2):\n",
    "    predictions = []\n",
    "\n",
    "    for _, row in test_df.iterrows():\n",
    "        x = [row['Feature1'], row['Feature2']]\n",
    "        scores = {}\n",
    "\n",
    "        for cls in class_means:\n",
    "            score = discriminant_sigma2I(x, class_means[cls], sigma2, priors[cls])\n",
    "            scores[cls] = score\n",
    "\n",
    "        predicted_class = max(scores, key=scores.get)\n",
    "        predictions.append(predicted_class)\n",
    "\n",
    "    return predictions\n",
    "\n"
   ]
  },
  {
   "cell_type": "code",
   "execution_count": 49,
   "id": "8aba1901",
   "metadata": {
    "collapsed": true,
    "scrolled": true
   },
   "outputs": [],
   "source": [
    "import numpy as np\n",
    "train_df = merged_df\n",
    "test_df = merged_df.copy()\n",
    "class_data_train = [train_df[train_df['Class'] == c][['Feature1', 'Feature2']] for c in train_df['Class'].unique()]\n",
    "\n",
    "# Step 3: Get sigma²\n",
    "sigma2_cov = shared_covariance_matrix_sigma_squared_I(class_data_train)\n",
    "sigma2 = sigma2_cov[0][0]  # since diagonal and same for all\n",
    "\n",
    "# Step 4: Compute means and priors\n",
    "class_means, priors = compute_class_means_and_priors(train_df)\n",
    "\n",
    "# Step 5: Predict\n",
    "test_df['Predicted'] = predict_sigma2I(train_df, class_means, priors, sigma2)"
   ]
  },
  {
   "cell_type": "code",
   "execution_count": 45,
   "id": "79651276",
   "metadata": {
    "collapsed": true,
    "scrolled": false
   },
   "outputs": [
    {
     "data": {
      "text/plain": [
       "['Class3',\n",
       " 'Class3',\n",
       " 'Class3',\n",
       " 'Class3',\n",
       " 'Class3',\n",
       " 'Class3',\n",
       " 'Class3',\n",
       " 'Class3',\n",
       " 'Class3',\n",
       " 'Class3',\n",
       " 'Class3',\n",
       " 'Class3',\n",
       " 'Class3',\n",
       " 'Class3',\n",
       " 'Class3',\n",
       " 'Class3',\n",
       " 'Class3',\n",
       " 'Class3',\n",
       " 'Class3',\n",
       " 'Class3',\n",
       " 'Class3',\n",
       " 'Class3',\n",
       " 'Class3',\n",
       " 'Class3',\n",
       " 'Class3',\n",
       " 'Class3',\n",
       " 'Class3',\n",
       " 'Class3',\n",
       " 'Class3',\n",
       " 'Class3',\n",
       " 'Class3',\n",
       " 'Class3',\n",
       " 'Class3',\n",
       " 'Class3',\n",
       " 'Class3',\n",
       " 'Class3',\n",
       " 'Class3',\n",
       " 'Class3',\n",
       " 'Class3',\n",
       " 'Class3',\n",
       " 'Class3',\n",
       " 'Class3',\n",
       " 'Class3',\n",
       " 'Class3',\n",
       " 'Class3',\n",
       " 'Class3',\n",
       " 'Class3',\n",
       " 'Class3',\n",
       " 'Class3',\n",
       " 'Class3',\n",
       " 'Class3',\n",
       " 'Class3',\n",
       " 'Class3',\n",
       " 'Class3',\n",
       " 'Class3',\n",
       " 'Class3',\n",
       " 'Class3',\n",
       " 'Class3',\n",
       " 'Class3',\n",
       " 'Class3',\n",
       " 'Class3',\n",
       " 'Class3',\n",
       " 'Class3',\n",
       " 'Class3',\n",
       " 'Class3',\n",
       " 'Class3',\n",
       " 'Class3',\n",
       " 'Class3',\n",
       " 'Class3',\n",
       " 'Class3',\n",
       " 'Class3',\n",
       " 'Class3',\n",
       " 'Class3',\n",
       " 'Class3',\n",
       " 'Class3',\n",
       " 'Class3',\n",
       " 'Class3',\n",
       " 'Class3',\n",
       " 'Class3',\n",
       " 'Class3',\n",
       " 'Class3',\n",
       " 'Class3',\n",
       " 'Class3',\n",
       " 'Class3',\n",
       " 'Class3',\n",
       " 'Class3',\n",
       " 'Class3',\n",
       " 'Class3',\n",
       " 'Class3',\n",
       " 'Class3',\n",
       " 'Class3',\n",
       " 'Class3',\n",
       " 'Class3',\n",
       " 'Class3',\n",
       " 'Class3',\n",
       " 'Class3',\n",
       " 'Class3',\n",
       " 'Class3',\n",
       " 'Class3',\n",
       " 'Class3',\n",
       " 'Class3',\n",
       " 'Class3',\n",
       " 'Class3',\n",
       " 'Class3',\n",
       " 'Class3',\n",
       " 'Class3',\n",
       " 'Class3',\n",
       " 'Class3',\n",
       " 'Class3',\n",
       " 'Class3',\n",
       " 'Class3',\n",
       " 'Class3',\n",
       " 'Class3',\n",
       " 'Class3',\n",
       " 'Class3',\n",
       " 'Class3',\n",
       " 'Class3',\n",
       " 'Class3',\n",
       " 'Class3',\n",
       " 'Class3',\n",
       " 'Class3',\n",
       " 'Class3',\n",
       " 'Class3',\n",
       " 'Class3',\n",
       " 'Class3',\n",
       " 'Class3',\n",
       " 'Class3',\n",
       " 'Class3',\n",
       " 'Class3',\n",
       " 'Class3',\n",
       " 'Class3',\n",
       " 'Class3',\n",
       " 'Class3',\n",
       " 'Class3',\n",
       " 'Class3',\n",
       " 'Class3',\n",
       " 'Class3',\n",
       " 'Class3',\n",
       " 'Class3',\n",
       " 'Class3',\n",
       " 'Class3',\n",
       " 'Class3',\n",
       " 'Class3',\n",
       " 'Class3',\n",
       " 'Class3',\n",
       " 'Class3',\n",
       " 'Class3',\n",
       " 'Class3',\n",
       " 'Class3',\n",
       " 'Class3',\n",
       " 'Class3',\n",
       " 'Class3',\n",
       " 'Class3',\n",
       " 'Class3',\n",
       " 'Class3',\n",
       " 'Class3',\n",
       " 'Class3',\n",
       " 'Class3',\n",
       " 'Class3',\n",
       " 'Class3',\n",
       " 'Class3',\n",
       " 'Class3',\n",
       " 'Class3',\n",
       " 'Class3',\n",
       " 'Class3',\n",
       " 'Class3',\n",
       " 'Class3',\n",
       " 'Class3',\n",
       " 'Class3',\n",
       " 'Class3',\n",
       " 'Class3',\n",
       " 'Class3',\n",
       " 'Class3',\n",
       " 'Class3',\n",
       " 'Class3',\n",
       " 'Class3',\n",
       " 'Class3',\n",
       " 'Class3',\n",
       " 'Class3',\n",
       " 'Class3',\n",
       " 'Class3',\n",
       " 'Class3',\n",
       " 'Class3',\n",
       " 'Class3',\n",
       " 'Class3',\n",
       " 'Class3',\n",
       " 'Class3',\n",
       " 'Class3',\n",
       " 'Class3',\n",
       " 'Class3',\n",
       " 'Class3',\n",
       " 'Class3',\n",
       " 'Class3',\n",
       " 'Class3',\n",
       " 'Class3',\n",
       " 'Class3',\n",
       " 'Class3',\n",
       " 'Class3',\n",
       " 'Class3',\n",
       " 'Class3',\n",
       " 'Class3',\n",
       " 'Class3',\n",
       " 'Class3',\n",
       " 'Class3',\n",
       " 'Class3',\n",
       " 'Class3',\n",
       " 'Class3',\n",
       " 'Class3',\n",
       " 'Class3',\n",
       " 'Class3',\n",
       " 'Class3',\n",
       " 'Class3',\n",
       " 'Class3',\n",
       " 'Class3',\n",
       " 'Class3',\n",
       " 'Class3',\n",
       " 'Class3',\n",
       " 'Class3',\n",
       " 'Class3',\n",
       " 'Class3',\n",
       " 'Class3',\n",
       " 'Class3',\n",
       " 'Class3',\n",
       " 'Class3',\n",
       " 'Class3',\n",
       " 'Class3',\n",
       " 'Class3',\n",
       " 'Class3',\n",
       " 'Class3',\n",
       " 'Class3',\n",
       " 'Class3',\n",
       " 'Class3',\n",
       " 'Class3',\n",
       " 'Class3',\n",
       " 'Class3',\n",
       " 'Class3',\n",
       " 'Class3',\n",
       " 'Class3',\n",
       " 'Class3',\n",
       " 'Class3',\n",
       " 'Class3',\n",
       " 'Class3',\n",
       " 'Class3',\n",
       " 'Class3',\n",
       " 'Class3',\n",
       " 'Class3',\n",
       " 'Class3',\n",
       " 'Class3',\n",
       " 'Class3',\n",
       " 'Class3',\n",
       " 'Class3',\n",
       " 'Class3',\n",
       " 'Class3',\n",
       " 'Class3',\n",
       " 'Class3',\n",
       " 'Class3',\n",
       " 'Class3',\n",
       " 'Class3',\n",
       " 'Class3',\n",
       " 'Class3',\n",
       " 'Class3',\n",
       " 'Class3',\n",
       " 'Class3',\n",
       " 'Class3',\n",
       " 'Class3',\n",
       " 'Class3',\n",
       " 'Class3',\n",
       " 'Class3',\n",
       " 'Class3',\n",
       " 'Class3',\n",
       " 'Class3',\n",
       " 'Class3',\n",
       " 'Class3',\n",
       " 'Class3',\n",
       " 'Class3',\n",
       " 'Class3',\n",
       " 'Class3',\n",
       " 'Class3',\n",
       " 'Class3',\n",
       " 'Class3',\n",
       " 'Class3',\n",
       " 'Class3',\n",
       " 'Class3',\n",
       " 'Class3',\n",
       " 'Class3',\n",
       " 'Class3',\n",
       " 'Class3',\n",
       " 'Class3',\n",
       " 'Class3',\n",
       " 'Class3',\n",
       " 'Class3',\n",
       " 'Class3',\n",
       " 'Class3',\n",
       " 'Class3',\n",
       " 'Class3',\n",
       " 'Class3',\n",
       " 'Class3',\n",
       " 'Class3',\n",
       " 'Class3',\n",
       " 'Class3',\n",
       " 'Class3',\n",
       " 'Class3',\n",
       " 'Class3',\n",
       " 'Class3',\n",
       " 'Class3',\n",
       " 'Class3',\n",
       " 'Class3',\n",
       " 'Class3',\n",
       " 'Class3',\n",
       " 'Class3',\n",
       " 'Class3',\n",
       " 'Class3',\n",
       " 'Class3',\n",
       " 'Class3',\n",
       " 'Class3',\n",
       " 'Class3',\n",
       " 'Class3',\n",
       " 'Class3',\n",
       " 'Class3',\n",
       " 'Class3',\n",
       " 'Class3',\n",
       " 'Class3',\n",
       " 'Class3',\n",
       " 'Class3',\n",
       " 'Class3',\n",
       " 'Class3',\n",
       " 'Class3',\n",
       " 'Class3',\n",
       " 'Class3',\n",
       " 'Class3',\n",
       " 'Class3',\n",
       " 'Class3',\n",
       " 'Class3',\n",
       " 'Class3',\n",
       " 'Class3',\n",
       " 'Class3',\n",
       " 'Class3',\n",
       " 'Class3',\n",
       " 'Class3',\n",
       " 'Class3',\n",
       " 'Class3',\n",
       " 'Class3',\n",
       " 'Class3',\n",
       " 'Class3',\n",
       " 'Class3',\n",
       " 'Class3',\n",
       " 'Class3',\n",
       " 'Class3',\n",
       " 'Class3',\n",
       " 'Class3',\n",
       " 'Class3',\n",
       " 'Class3',\n",
       " 'Class3',\n",
       " 'Class3',\n",
       " 'Class3',\n",
       " 'Class3',\n",
       " 'Class3',\n",
       " 'Class3',\n",
       " 'Class3',\n",
       " 'Class3',\n",
       " 'Class3',\n",
       " 'Class3',\n",
       " 'Class3',\n",
       " 'Class3',\n",
       " 'Class3',\n",
       " 'Class3',\n",
       " 'Class3',\n",
       " 'Class3',\n",
       " 'Class3',\n",
       " 'Class3',\n",
       " 'Class3',\n",
       " 'Class3',\n",
       " 'Class3',\n",
       " 'Class3',\n",
       " 'Class3',\n",
       " 'Class3',\n",
       " 'Class3',\n",
       " 'Class3',\n",
       " 'Class3',\n",
       " 'Class3',\n",
       " 'Class3',\n",
       " 'Class3',\n",
       " 'Class3',\n",
       " 'Class3',\n",
       " 'Class3',\n",
       " 'Class3',\n",
       " 'Class3',\n",
       " 'Class3',\n",
       " 'Class3',\n",
       " 'Class3',\n",
       " 'Class3',\n",
       " 'Class3',\n",
       " 'Class3',\n",
       " 'Class3',\n",
       " 'Class3',\n",
       " 'Class3',\n",
       " 'Class3',\n",
       " 'Class3',\n",
       " 'Class3',\n",
       " 'Class3',\n",
       " 'Class3',\n",
       " 'Class3',\n",
       " 'Class3',\n",
       " 'Class3',\n",
       " 'Class3',\n",
       " 'Class3',\n",
       " 'Class3',\n",
       " 'Class3',\n",
       " 'Class3',\n",
       " 'Class3',\n",
       " 'Class3',\n",
       " 'Class3',\n",
       " 'Class3',\n",
       " 'Class3',\n",
       " 'Class3',\n",
       " 'Class3',\n",
       " 'Class3',\n",
       " 'Class3',\n",
       " 'Class3',\n",
       " 'Class3',\n",
       " 'Class3',\n",
       " 'Class3',\n",
       " 'Class3',\n",
       " 'Class3',\n",
       " 'Class3',\n",
       " 'Class3',\n",
       " 'Class3',\n",
       " 'Class3',\n",
       " 'Class3',\n",
       " 'Class3',\n",
       " 'Class3',\n",
       " 'Class3',\n",
       " 'Class3',\n",
       " 'Class3',\n",
       " 'Class3',\n",
       " 'Class3',\n",
       " 'Class3',\n",
       " 'Class3',\n",
       " 'Class3',\n",
       " 'Class3',\n",
       " 'Class3',\n",
       " 'Class3',\n",
       " 'Class3',\n",
       " 'Class3',\n",
       " 'Class3',\n",
       " 'Class3',\n",
       " 'Class3',\n",
       " 'Class3',\n",
       " 'Class3',\n",
       " 'Class3',\n",
       " 'Class3',\n",
       " 'Class3',\n",
       " 'Class3',\n",
       " 'Class3',\n",
       " 'Class3',\n",
       " 'Class3',\n",
       " 'Class3',\n",
       " 'Class3',\n",
       " 'Class3',\n",
       " 'Class3',\n",
       " 'Class3',\n",
       " 'Class3',\n",
       " 'Class3',\n",
       " 'Class3',\n",
       " 'Class3',\n",
       " 'Class3',\n",
       " 'Class3',\n",
       " 'Class3',\n",
       " 'Class3',\n",
       " 'Class3',\n",
       " 'Class3',\n",
       " 'Class3',\n",
       " 'Class3',\n",
       " 'Class3',\n",
       " 'Class3',\n",
       " 'Class3',\n",
       " 'Class3',\n",
       " 'Class3',\n",
       " 'Class3',\n",
       " 'Class3',\n",
       " 'Class3',\n",
       " 'Class3',\n",
       " 'Class3',\n",
       " 'Class3',\n",
       " 'Class3',\n",
       " 'Class3',\n",
       " 'Class3',\n",
       " 'Class3',\n",
       " 'Class3',\n",
       " 'Class3',\n",
       " 'Class3',\n",
       " 'Class3',\n",
       " 'Class3',\n",
       " 'Class3',\n",
       " 'Class3',\n",
       " 'Class3',\n",
       " 'Class3',\n",
       " 'Class3',\n",
       " 'Class3',\n",
       " 'Class3']"
      ]
     },
     "execution_count": 45,
     "metadata": {},
     "output_type": "execute_result"
    }
   ],
   "source": []
  },
  {
   "cell_type": "code",
   "execution_count": 50,
   "id": "671f7d81",
   "metadata": {
    "collapsed": true,
    "scrolled": true
   },
   "outputs": [],
   "source": [
    "def confusion_matrix(true_labels, predicted_labels, classes):\n",
    "    # Initialize matrix as dict of dicts for clarity\n",
    "    matrix = {true_cls: {pred_cls: 0 for pred_cls in classes} for true_cls in classes}\n",
    "\n",
    "    for t, p in zip(true_labels, predicted_labels):\n",
    "        matrix[t][p] += 1\n",
    "\n",
    "    return matrix\n",
    "\n",
    "def accuracy(true_labels, predicted_labels):\n",
    "    correct = sum(t == p for t, p in zip(true_labels, predicted_labels))\n",
    "    total = len(true_labels)\n",
    "    return correct / total if total > 0 else 0\n",
    "\n",
    "def precision_recall_f1(conf_matrix, classes):\n",
    "    precision = {}\n",
    "    recall = {}\n",
    "    f1 = {}\n",
    "\n",
    "    for cls in classes:\n",
    "        TP = conf_matrix[cls][cls]\n",
    "        FP = sum(conf_matrix[other][cls] for other in classes if other != cls)\n",
    "        FN = sum(conf_matrix[cls][other] for other in classes if other != cls)\n",
    "\n",
    "        prec = TP / (TP + FP) if (TP + FP) > 0 else 0\n",
    "        rec = TP / (TP + FN) if (TP + FN) > 0 else 0\n",
    "        f1_score = 2 * prec * rec / (prec + rec) if (prec + rec) > 0 else 0\n",
    "\n",
    "        precision[cls] = prec\n",
    "        recall[cls] = rec\n",
    "        f1[cls] = f1_score\n",
    "\n",
    "    mean_precision = sum(precision.values()) / len(classes)\n",
    "    mean_recall = sum(recall.values()) / len(classes)\n",
    "    mean_f1 = sum(f1.values()) / len(classes)\n",
    "\n",
    "    return precision, recall, f1, mean_precision, mean_recall, mean_f1\n"
   ]
  },
  {
   "cell_type": "code",
   "execution_count": 55,
   "id": "c20c1c21",
   "metadata": {},
   "outputs": [
    {
     "name": "stdout",
     "output_type": "stream",
     "text": [
      "\n",
      "\n",
      "Confusion Matrix:\n",
      " {'Class1': {'Class1': 498, 'Class2': 0, 'Class3': 2}, 'Class2': {'Class1': 0, 'Class2': 500, 'Class3': 0}, 'Class3': {'Class1': 0, 'Class2': 0, 'Class3': 500}}\n",
      "\n",
      "\n",
      "Accuracy:\n",
      " 0.9986666666666667\n",
      "\n",
      "\n",
      "Precision per class:\n",
      " {'Class1': 1.0, 'Class2': 1.0, 'Class3': 0.9960159362549801}\n",
      "\n",
      "\n",
      "Recall per class:\n",
      " {'Class1': 0.996, 'Class2': 1.0, 'Class3': 1.0}\n",
      "\n",
      "\n",
      "F1 Score per class:\n",
      " {'Class1': 0.9979959919839679, 'Class2': 1.0, 'Class3': 0.998003992015968}\n",
      "\n",
      "\n",
      "Mean Precision:\n",
      " 0.99867197875166\n",
      "\n",
      "\n",
      "Mean Recall:\n",
      " 0.9986666666666667\n",
      "\n",
      "\n",
      "Mean F1 Score:\n",
      " 0.9986666613333121\n"
     ]
    }
   ],
   "source": [
    "true_labels = test_df['Class'].tolist()\n",
    "predicted_labels = test_df['Predicted'].tolist()\n",
    "classes = list(test_df['Class'].unique())\n",
    "\n",
    "cm = confusion_matrix(true_labels, predicted_labels, classes)\n",
    "acc = accuracy(true_labels, predicted_labels)\n",
    "prec, rec, f1, mean_prec, mean_rec, mean_f1 = precision_recall_f1(cm, classes)\n",
    "\n",
    "print(\"\\n\\nConfusion Matrix:\\n\", cm)\n",
    "print(\"\\n\\nAccuracy:\\n\", acc)\n",
    "print(\"\\n\\nPrecision per class:\\n\", prec)\n",
    "print(\"\\n\\nRecall per class:\\n\", rec)\n",
    "print(\"\\n\\nF1 Score per class:\\n\", f1)\n",
    "print(\"\\n\\nMean Precision:\\n\", mean_prec)\n",
    "print(\"\\n\\nMean Recall:\\n\", mean_rec)\n",
    "print(\"\\n\\nMean F1 Score:\\n\", mean_f1)\n"
   ]
  },
  {
   "cell_type": "code",
   "execution_count": 52,
   "id": "99e9f523",
   "metadata": {},
   "outputs": [
    {
     "name": "stdout",
     "output_type": "stream",
     "text": [
      "Shared Covariance Matrix (σ² * I):\n",
      "[[5.2093299913972695, 0], [0, 5.2093299913972695]]\n"
     ]
    }
   ],
   "source": [
    "import pandas as pd\n",
    "import numpy\n",
    "df = merged_df\n",
    "# Load data\n",
    "# df = pd.read_csv(\"your_data.csv\")  # Replace with actual filename\n",
    "\n",
    "# Split data into list of DataFrames by class\n",
    "class_data = [df[df['Class'] == c][['Feature1', 'Feature2']] for c in df['Class'].unique()]\n",
    "\n",
    "# Get shared covariance matrix of form σ² * I\n",
    "shared_cov = shared_covariance_matrix_sigma_squared_I(class_data)\n",
    "\n",
    "# Display\n",
    "print(\"Shared Covariance Matrix (σ² * I):\")\n",
    "print(shared_cov)"
   ]
  },
  {
   "cell_type": "code",
   "execution_count": 53,
   "id": "b56f7cf9",
   "metadata": {
    "scrolled": true
   },
   "outputs": [
    {
     "ename": "SyntaxError",
     "evalue": "invalid syntax (1063484020.py, line 1)",
     "output_type": "error",
     "traceback": [
      "\u001b[1;36m  Cell \u001b[1;32mIn[53], line 1\u001b[1;36m\u001b[0m\n\u001b[1;33m    int main()\u001b[0m\n\u001b[1;37m        ^\u001b[0m\n\u001b[1;31mSyntaxError\u001b[0m\u001b[1;31m:\u001b[0m invalid syntax\n"
     ]
    }
   ],
   "source": [
    "int main()"
   ]
  },
  {
   "cell_type": "code",
   "execution_count": null,
   "id": "9ba83b7c",
   "metadata": {
    "collapsed": true,
    "scrolled": true
   },
   "outputs": [],
   "source": []
  }
 ],
 "metadata": {
  "kernelspec": {
   "display_name": "Python 3 (ipykernel)",
   "language": "python",
   "name": "python3"
  },
  "language_info": {
   "codemirror_mode": {
    "name": "ipython",
    "version": 3
   },
   "file_extension": ".py",
   "mimetype": "text/x-python",
   "name": "python",
   "nbconvert_exporter": "python",
   "pygments_lexer": "ipython3",
   "version": "3.10.9"
  }
 },
 "nbformat": 4,
 "nbformat_minor": 5
}
